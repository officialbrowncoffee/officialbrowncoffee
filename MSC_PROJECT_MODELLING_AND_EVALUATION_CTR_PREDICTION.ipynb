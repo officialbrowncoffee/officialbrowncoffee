{
  "cells": [
    {
      "cell_type": "markdown",
      "metadata": {
        "id": "view-in-github",
        "colab_type": "text"
      },
      "source": [
        "<a href=\"https://colab.research.google.com/github/officialbrowncoffee/officialbrowncoffee/blob/main/MSC_PROJECT_MODELLING_AND_EVALUATION_CTR_PREDICTION.ipynb\" target=\"_parent\"><img src=\"https://colab.research.google.com/assets/colab-badge.svg\" alt=\"Open In Colab\"/></a>"
      ]
    },
    {
      "cell_type": "code",
      "execution_count": null,
      "metadata": {
        "id": "Lotg8rr2ssqS"
      },
      "outputs": [],
      "source": [
        "import numpy as np # linear algebra\n",
        "import pandas as pd # data processing, CSV file I/O (e.g. pd.read_csv)"
      ]
    },
    {
      "cell_type": "code",
      "execution_count": null,
      "metadata": {
        "colab": {
          "base_uri": "https://localhost:8080/"
        },
        "id": "ZUUShNWItGM0",
        "outputId": "cde1e09d-a159-4a42-9334-fd0f78ac330d"
      },
      "outputs": [
        {
          "output_type": "stream",
          "name": "stdout",
          "text": [
            "Mounted at /content/drive\n"
          ]
        }
      ],
      "source": [
        "from google.colab import drive\n",
        "drive.mount('/content/drive')"
      ]
    },
    {
      "cell_type": "code",
      "execution_count": null,
      "metadata": {
        "colab": {
          "base_uri": "https://localhost:8080/"
        },
        "id": "MplSh5yGsy_o",
        "outputId": "6f8961bc-e59e-43a8-b139-251753fe1863"
      },
      "outputs": [
        {
          "output_type": "stream",
          "name": "stdout",
          "text": [
            "Collecting deepctr-torch\n",
            "  Downloading deepctr_torch-0.2.9-py3-none-any.whl (82 kB)\n",
            "\u001b[2K     \u001b[90m━━━━━━━━━━━━━━━━━━━━━━━━━━━━━━━━━━━━━━━━\u001b[0m \u001b[32m83.0/83.0 kB\u001b[0m \u001b[31m2.4 MB/s\u001b[0m eta \u001b[36m0:00:00\u001b[0m\n",
            "\u001b[?25hRequirement already satisfied: torch>=1.2.0 in /usr/local/lib/python3.10/dist-packages (from deepctr-torch) (2.2.1+cu121)\n",
            "Requirement already satisfied: tqdm in /usr/local/lib/python3.10/dist-packages (from deepctr-torch) (4.66.4)\n",
            "Requirement already satisfied: scikit-learn in /usr/local/lib/python3.10/dist-packages (from deepctr-torch) (1.2.2)\n",
            "Requirement already satisfied: tensorflow in /usr/local/lib/python3.10/dist-packages (from deepctr-torch) (2.15.0)\n",
            "Requirement already satisfied: filelock in /usr/local/lib/python3.10/dist-packages (from torch>=1.2.0->deepctr-torch) (3.14.0)\n",
            "Requirement already satisfied: typing-extensions>=4.8.0 in /usr/local/lib/python3.10/dist-packages (from torch>=1.2.0->deepctr-torch) (4.11.0)\n",
            "Requirement already satisfied: sympy in /usr/local/lib/python3.10/dist-packages (from torch>=1.2.0->deepctr-torch) (1.12)\n",
            "Requirement already satisfied: networkx in /usr/local/lib/python3.10/dist-packages (from torch>=1.2.0->deepctr-torch) (3.3)\n",
            "Requirement already satisfied: jinja2 in /usr/local/lib/python3.10/dist-packages (from torch>=1.2.0->deepctr-torch) (3.1.4)\n",
            "Requirement already satisfied: fsspec in /usr/local/lib/python3.10/dist-packages (from torch>=1.2.0->deepctr-torch) (2023.6.0)\n",
            "Collecting nvidia-cuda-nvrtc-cu12==12.1.105 (from torch>=1.2.0->deepctr-torch)\n",
            "  Using cached nvidia_cuda_nvrtc_cu12-12.1.105-py3-none-manylinux1_x86_64.whl (23.7 MB)\n",
            "Collecting nvidia-cuda-runtime-cu12==12.1.105 (from torch>=1.2.0->deepctr-torch)\n",
            "  Using cached nvidia_cuda_runtime_cu12-12.1.105-py3-none-manylinux1_x86_64.whl (823 kB)\n",
            "Collecting nvidia-cuda-cupti-cu12==12.1.105 (from torch>=1.2.0->deepctr-torch)\n",
            "  Using cached nvidia_cuda_cupti_cu12-12.1.105-py3-none-manylinux1_x86_64.whl (14.1 MB)\n",
            "Collecting nvidia-cudnn-cu12==8.9.2.26 (from torch>=1.2.0->deepctr-torch)\n",
            "  Using cached nvidia_cudnn_cu12-8.9.2.26-py3-none-manylinux1_x86_64.whl (731.7 MB)\n",
            "Collecting nvidia-cublas-cu12==12.1.3.1 (from torch>=1.2.0->deepctr-torch)\n",
            "  Using cached nvidia_cublas_cu12-12.1.3.1-py3-none-manylinux1_x86_64.whl (410.6 MB)\n",
            "Collecting nvidia-cufft-cu12==11.0.2.54 (from torch>=1.2.0->deepctr-torch)\n",
            "  Using cached nvidia_cufft_cu12-11.0.2.54-py3-none-manylinux1_x86_64.whl (121.6 MB)\n",
            "Collecting nvidia-curand-cu12==10.3.2.106 (from torch>=1.2.0->deepctr-torch)\n",
            "  Using cached nvidia_curand_cu12-10.3.2.106-py3-none-manylinux1_x86_64.whl (56.5 MB)\n",
            "Collecting nvidia-cusolver-cu12==11.4.5.107 (from torch>=1.2.0->deepctr-torch)\n",
            "  Using cached nvidia_cusolver_cu12-11.4.5.107-py3-none-manylinux1_x86_64.whl (124.2 MB)\n",
            "Collecting nvidia-cusparse-cu12==12.1.0.106 (from torch>=1.2.0->deepctr-torch)\n",
            "  Using cached nvidia_cusparse_cu12-12.1.0.106-py3-none-manylinux1_x86_64.whl (196.0 MB)\n",
            "Collecting nvidia-nccl-cu12==2.19.3 (from torch>=1.2.0->deepctr-torch)\n",
            "  Using cached nvidia_nccl_cu12-2.19.3-py3-none-manylinux1_x86_64.whl (166.0 MB)\n",
            "Collecting nvidia-nvtx-cu12==12.1.105 (from torch>=1.2.0->deepctr-torch)\n",
            "  Using cached nvidia_nvtx_cu12-12.1.105-py3-none-manylinux1_x86_64.whl (99 kB)\n",
            "Requirement already satisfied: triton==2.2.0 in /usr/local/lib/python3.10/dist-packages (from torch>=1.2.0->deepctr-torch) (2.2.0)\n",
            "Collecting nvidia-nvjitlink-cu12 (from nvidia-cusolver-cu12==11.4.5.107->torch>=1.2.0->deepctr-torch)\n",
            "  Using cached nvidia_nvjitlink_cu12-12.4.127-py3-none-manylinux2014_x86_64.whl (21.1 MB)\n",
            "Requirement already satisfied: numpy>=1.17.3 in /usr/local/lib/python3.10/dist-packages (from scikit-learn->deepctr-torch) (1.25.2)\n",
            "Requirement already satisfied: scipy>=1.3.2 in /usr/local/lib/python3.10/dist-packages (from scikit-learn->deepctr-torch) (1.11.4)\n",
            "Requirement already satisfied: joblib>=1.1.1 in /usr/local/lib/python3.10/dist-packages (from scikit-learn->deepctr-torch) (1.4.2)\n",
            "Requirement already satisfied: threadpoolctl>=2.0.0 in /usr/local/lib/python3.10/dist-packages (from scikit-learn->deepctr-torch) (3.5.0)\n",
            "Requirement already satisfied: absl-py>=1.0.0 in /usr/local/lib/python3.10/dist-packages (from tensorflow->deepctr-torch) (1.4.0)\n",
            "Requirement already satisfied: astunparse>=1.6.0 in /usr/local/lib/python3.10/dist-packages (from tensorflow->deepctr-torch) (1.6.3)\n",
            "Requirement already satisfied: flatbuffers>=23.5.26 in /usr/local/lib/python3.10/dist-packages (from tensorflow->deepctr-torch) (24.3.25)\n",
            "Requirement already satisfied: gast!=0.5.0,!=0.5.1,!=0.5.2,>=0.2.1 in /usr/local/lib/python3.10/dist-packages (from tensorflow->deepctr-torch) (0.5.4)\n",
            "Requirement already satisfied: google-pasta>=0.1.1 in /usr/local/lib/python3.10/dist-packages (from tensorflow->deepctr-torch) (0.2.0)\n",
            "Requirement already satisfied: h5py>=2.9.0 in /usr/local/lib/python3.10/dist-packages (from tensorflow->deepctr-torch) (3.9.0)\n",
            "Requirement already satisfied: libclang>=13.0.0 in /usr/local/lib/python3.10/dist-packages (from tensorflow->deepctr-torch) (18.1.1)\n",
            "Requirement already satisfied: ml-dtypes~=0.2.0 in /usr/local/lib/python3.10/dist-packages (from tensorflow->deepctr-torch) (0.2.0)\n",
            "Requirement already satisfied: opt-einsum>=2.3.2 in /usr/local/lib/python3.10/dist-packages (from tensorflow->deepctr-torch) (3.3.0)\n",
            "Requirement already satisfied: packaging in /usr/local/lib/python3.10/dist-packages (from tensorflow->deepctr-torch) (24.0)\n",
            "Requirement already satisfied: protobuf!=4.21.0,!=4.21.1,!=4.21.2,!=4.21.3,!=4.21.4,!=4.21.5,<5.0.0dev,>=3.20.3 in /usr/local/lib/python3.10/dist-packages (from tensorflow->deepctr-torch) (3.20.3)\n",
            "Requirement already satisfied: setuptools in /usr/local/lib/python3.10/dist-packages (from tensorflow->deepctr-torch) (67.7.2)\n",
            "Requirement already satisfied: six>=1.12.0 in /usr/local/lib/python3.10/dist-packages (from tensorflow->deepctr-torch) (1.16.0)\n",
            "Requirement already satisfied: termcolor>=1.1.0 in /usr/local/lib/python3.10/dist-packages (from tensorflow->deepctr-torch) (2.4.0)\n",
            "Requirement already satisfied: wrapt<1.15,>=1.11.0 in /usr/local/lib/python3.10/dist-packages (from tensorflow->deepctr-torch) (1.14.1)\n",
            "Requirement already satisfied: tensorflow-io-gcs-filesystem>=0.23.1 in /usr/local/lib/python3.10/dist-packages (from tensorflow->deepctr-torch) (0.37.0)\n",
            "Requirement already satisfied: grpcio<2.0,>=1.24.3 in /usr/local/lib/python3.10/dist-packages (from tensorflow->deepctr-torch) (1.63.0)\n",
            "Requirement already satisfied: tensorboard<2.16,>=2.15 in /usr/local/lib/python3.10/dist-packages (from tensorflow->deepctr-torch) (2.15.2)\n",
            "Requirement already satisfied: tensorflow-estimator<2.16,>=2.15.0 in /usr/local/lib/python3.10/dist-packages (from tensorflow->deepctr-torch) (2.15.0)\n",
            "Requirement already satisfied: keras<2.16,>=2.15.0 in /usr/local/lib/python3.10/dist-packages (from tensorflow->deepctr-torch) (2.15.0)\n",
            "Requirement already satisfied: wheel<1.0,>=0.23.0 in /usr/local/lib/python3.10/dist-packages (from astunparse>=1.6.0->tensorflow->deepctr-torch) (0.43.0)\n",
            "Requirement already satisfied: google-auth<3,>=1.6.3 in /usr/local/lib/python3.10/dist-packages (from tensorboard<2.16,>=2.15->tensorflow->deepctr-torch) (2.27.0)\n",
            "Requirement already satisfied: google-auth-oauthlib<2,>=0.5 in /usr/local/lib/python3.10/dist-packages (from tensorboard<2.16,>=2.15->tensorflow->deepctr-torch) (1.2.0)\n",
            "Requirement already satisfied: markdown>=2.6.8 in /usr/local/lib/python3.10/dist-packages (from tensorboard<2.16,>=2.15->tensorflow->deepctr-torch) (3.6)\n",
            "Requirement already satisfied: requests<3,>=2.21.0 in /usr/local/lib/python3.10/dist-packages (from tensorboard<2.16,>=2.15->tensorflow->deepctr-torch) (2.31.0)\n",
            "Requirement already satisfied: tensorboard-data-server<0.8.0,>=0.7.0 in /usr/local/lib/python3.10/dist-packages (from tensorboard<2.16,>=2.15->tensorflow->deepctr-torch) (0.7.2)\n",
            "Requirement already satisfied: werkzeug>=1.0.1 in /usr/local/lib/python3.10/dist-packages (from tensorboard<2.16,>=2.15->tensorflow->deepctr-torch) (3.0.3)\n",
            "Requirement already satisfied: MarkupSafe>=2.0 in /usr/local/lib/python3.10/dist-packages (from jinja2->torch>=1.2.0->deepctr-torch) (2.1.5)\n",
            "Requirement already satisfied: mpmath>=0.19 in /usr/local/lib/python3.10/dist-packages (from sympy->torch>=1.2.0->deepctr-torch) (1.3.0)\n",
            "Requirement already satisfied: cachetools<6.0,>=2.0.0 in /usr/local/lib/python3.10/dist-packages (from google-auth<3,>=1.6.3->tensorboard<2.16,>=2.15->tensorflow->deepctr-torch) (5.3.3)\n",
            "Requirement already satisfied: pyasn1-modules>=0.2.1 in /usr/local/lib/python3.10/dist-packages (from google-auth<3,>=1.6.3->tensorboard<2.16,>=2.15->tensorflow->deepctr-torch) (0.4.0)\n",
            "Requirement already satisfied: rsa<5,>=3.1.4 in /usr/local/lib/python3.10/dist-packages (from google-auth<3,>=1.6.3->tensorboard<2.16,>=2.15->tensorflow->deepctr-torch) (4.9)\n",
            "Requirement already satisfied: requests-oauthlib>=0.7.0 in /usr/local/lib/python3.10/dist-packages (from google-auth-oauthlib<2,>=0.5->tensorboard<2.16,>=2.15->tensorflow->deepctr-torch) (1.3.1)\n",
            "Requirement already satisfied: charset-normalizer<4,>=2 in /usr/local/lib/python3.10/dist-packages (from requests<3,>=2.21.0->tensorboard<2.16,>=2.15->tensorflow->deepctr-torch) (3.3.2)\n",
            "Requirement already satisfied: idna<4,>=2.5 in /usr/local/lib/python3.10/dist-packages (from requests<3,>=2.21.0->tensorboard<2.16,>=2.15->tensorflow->deepctr-torch) (3.7)\n",
            "Requirement already satisfied: urllib3<3,>=1.21.1 in /usr/local/lib/python3.10/dist-packages (from requests<3,>=2.21.0->tensorboard<2.16,>=2.15->tensorflow->deepctr-torch) (2.0.7)\n",
            "Requirement already satisfied: certifi>=2017.4.17 in /usr/local/lib/python3.10/dist-packages (from requests<3,>=2.21.0->tensorboard<2.16,>=2.15->tensorflow->deepctr-torch) (2024.2.2)\n",
            "Requirement already satisfied: pyasn1<0.7.0,>=0.4.6 in /usr/local/lib/python3.10/dist-packages (from pyasn1-modules>=0.2.1->google-auth<3,>=1.6.3->tensorboard<2.16,>=2.15->tensorflow->deepctr-torch) (0.6.0)\n",
            "Requirement already satisfied: oauthlib>=3.0.0 in /usr/local/lib/python3.10/dist-packages (from requests-oauthlib>=0.7.0->google-auth-oauthlib<2,>=0.5->tensorboard<2.16,>=2.15->tensorflow->deepctr-torch) (3.2.2)\n",
            "Installing collected packages: nvidia-nvtx-cu12, nvidia-nvjitlink-cu12, nvidia-nccl-cu12, nvidia-curand-cu12, nvidia-cufft-cu12, nvidia-cuda-runtime-cu12, nvidia-cuda-nvrtc-cu12, nvidia-cuda-cupti-cu12, nvidia-cublas-cu12, nvidia-cusparse-cu12, nvidia-cudnn-cu12, nvidia-cusolver-cu12, deepctr-torch\n",
            "Successfully installed deepctr-torch-0.2.9 nvidia-cublas-cu12-12.1.3.1 nvidia-cuda-cupti-cu12-12.1.105 nvidia-cuda-nvrtc-cu12-12.1.105 nvidia-cuda-runtime-cu12-12.1.105 nvidia-cudnn-cu12-8.9.2.26 nvidia-cufft-cu12-11.0.2.54 nvidia-curand-cu12-10.3.2.106 nvidia-cusolver-cu12-11.4.5.107 nvidia-cusparse-cu12-12.1.0.106 nvidia-nccl-cu12-2.19.3 nvidia-nvjitlink-cu12-12.4.127 nvidia-nvtx-cu12-12.1.105\n"
          ]
        }
      ],
      "source": [
        "!pip install -U deepctr-torch"
      ]
    },
    {
      "cell_type": "code",
      "execution_count": null,
      "metadata": {
        "id": "tIpLfM_1tETI"
      },
      "outputs": [],
      "source": []
    },
    {
      "cell_type": "code",
      "execution_count": null,
      "metadata": {
        "id": "y9ktYTEzs3JE"
      },
      "outputs": [],
      "source": [
        "import pandas as pd\n",
        "import torch\n",
        "from sklearn.metrics import mean_squared_error\n",
        "from sklearn.model_selection import train_test_split\n",
        "from sklearn.preprocessing import LabelEncoder\n",
        "\n",
        "from deepctr_torch.inputs import SparseFeat, get_feature_names,DenseFeat\n",
        "from deepctr_torch.models import DeepFM"
      ]
    },
    {
      "cell_type": "code",
      "execution_count": null,
      "metadata": {
        "colab": {
          "base_uri": "https://localhost:8080/"
        },
        "id": "7uiugv7ItZPl",
        "outputId": "79a5033f-0d54-4c9e-ae83-b067ffbd2039"
      },
      "outputs": [
        {
          "output_type": "stream",
          "name": "stdout",
          "text": [
            "Collecting category_encoders\n",
            "  Downloading category_encoders-2.6.3-py2.py3-none-any.whl (81 kB)\n",
            "\u001b[?25l     \u001b[90m━━━━━━━━━━━━━━━━━━━━━━━━━━━━━━━━━━━━━━━━\u001b[0m \u001b[32m0.0/81.9 kB\u001b[0m \u001b[31m?\u001b[0m eta \u001b[36m-:--:--\u001b[0m\r\u001b[2K     \u001b[90m━━━━━━━━━━━━━━━━━━━━━━━━━━━━━━━━━━━━━━━━\u001b[0m \u001b[32m81.9/81.9 kB\u001b[0m \u001b[31m2.4 MB/s\u001b[0m eta \u001b[36m0:00:00\u001b[0m\n",
            "\u001b[?25hRequirement already satisfied: numpy>=1.14.0 in /usr/local/lib/python3.10/dist-packages (from category_encoders) (1.25.2)\n",
            "Requirement already satisfied: scikit-learn>=0.20.0 in /usr/local/lib/python3.10/dist-packages (from category_encoders) (1.2.2)\n",
            "Requirement already satisfied: scipy>=1.0.0 in /usr/local/lib/python3.10/dist-packages (from category_encoders) (1.11.4)\n",
            "Requirement already satisfied: statsmodels>=0.9.0 in /usr/local/lib/python3.10/dist-packages (from category_encoders) (0.14.2)\n",
            "Requirement already satisfied: pandas>=1.0.5 in /usr/local/lib/python3.10/dist-packages (from category_encoders) (2.0.3)\n",
            "Requirement already satisfied: patsy>=0.5.1 in /usr/local/lib/python3.10/dist-packages (from category_encoders) (0.5.6)\n",
            "Requirement already satisfied: python-dateutil>=2.8.2 in /usr/local/lib/python3.10/dist-packages (from pandas>=1.0.5->category_encoders) (2.8.2)\n",
            "Requirement already satisfied: pytz>=2020.1 in /usr/local/lib/python3.10/dist-packages (from pandas>=1.0.5->category_encoders) (2023.4)\n",
            "Requirement already satisfied: tzdata>=2022.1 in /usr/local/lib/python3.10/dist-packages (from pandas>=1.0.5->category_encoders) (2024.1)\n",
            "Requirement already satisfied: six in /usr/local/lib/python3.10/dist-packages (from patsy>=0.5.1->category_encoders) (1.16.0)\n",
            "Requirement already satisfied: joblib>=1.1.1 in /usr/local/lib/python3.10/dist-packages (from scikit-learn>=0.20.0->category_encoders) (1.4.2)\n",
            "Requirement already satisfied: threadpoolctl>=2.0.0 in /usr/local/lib/python3.10/dist-packages (from scikit-learn>=0.20.0->category_encoders) (3.5.0)\n",
            "Requirement already satisfied: packaging>=21.3 in /usr/local/lib/python3.10/dist-packages (from statsmodels>=0.9.0->category_encoders) (24.0)\n",
            "Installing collected packages: category_encoders\n",
            "Successfully installed category_encoders-2.6.3\n"
          ]
        }
      ],
      "source": [
        "!pip install category_encoders"
      ]
    },
    {
      "cell_type": "code",
      "execution_count": null,
      "metadata": {
        "id": "GJZbCpU5thSL"
      },
      "outputs": [],
      "source": [
        "import pandas as pd\n",
        "import numpy as np\n",
        "import seaborn as sns\n",
        "import matplotlib.pyplot as plt\n",
        "import warnings\n",
        "warnings.filterwarnings('ignore')\n",
        "sns.set_theme(style=\"darkgrid\")\n",
        "pd.set_option('display.max_columns', 0)\n",
        "plt.style.use('ggplot')\n",
        "pd.options.display.float_format = '{:.2f}'.format\n",
        "import math\n",
        "from sklearn.preprocessing import LabelEncoder ,MinMaxScaler\n",
        "from sklearn.model_selection import train_test_split\n",
        "from sklearn import metrics\n",
        "from sklearn.feature_selection import RFE\n",
        "from sklearn.model_selection import GridSearchCV\n",
        "import random\n",
        "import gzip\n",
        "import category_encoders as ce\n",
        "pd.options.display.float_format = '{:.2f}'.format"
      ]
    },
    {
      "cell_type": "code",
      "execution_count": null,
      "metadata": {
        "id": "-NiyX63otnIl"
      },
      "outputs": [],
      "source": [
        "dtype = {\n",
        "    'id': np.dtype(int),\n",
        "    'click': np.dtype(int),\n",
        "    'hour' : str,\n",
        "    'C1': np.dtype(str),\n",
        "    'banner_pos': np.dtype(str),\n",
        "    'site_id': np.dtype(str),\n",
        "    'site_domain': np.dtype(str),\n",
        "    'site_category': np.dtype(str),\n",
        "    'app_id': np.dtype(str),\n",
        "    'app_domain': np.dtype(str),\n",
        "    'app_category': np.dtype(str),\n",
        "    'device_id': np.dtype(str),\n",
        "    'device_ip': np.dtype(str),\n",
        "    'device_model': np.dtype(str),\n",
        "    'device_type': np.dtype(str),\n",
        "    'device_conn_type': np.dtype(str),\n",
        "    'C14': np.dtype(str),\n",
        "    'C15': np.dtype(str),\n",
        "    'C16': np.dtype(str),\n",
        "    'C17': np.dtype(str),\n",
        "    'C18': np.dtype(str),\n",
        "    'C19': np.dtype(str),\n",
        "    'C20': np.dtype(str),\n",
        "    'C21': np.dtype(str)\n",
        "}\n",
        "num_records = 40428967\n",
        "sample_size = 40428967\n",
        "skip_values = sorted(random.sample(range(1,num_records), num_records - sample_size))\n",
        "parse_date = lambda val : pd.to_datetime(val, format='%y%m%d%H')\n",
        "\n",
        "data = pd.read_csv( \"/content/drive/MyDrive/Avazu_dataset/avazu-ctr-prediction/train.gz\", parse_dates=['hour'],chunksize=500000, date_parser=parse_date,\\\n",
        "                     skiprows=skip_values)\n",
        "data=next(data)"
      ]
    },
    {
      "cell_type": "code",
      "execution_count": null,
      "metadata": {
        "colab": {
          "base_uri": "https://localhost:8080/"
        },
        "id": "mxJuu2xtuCbr",
        "outputId": "d02bd5a1-bc84-4220-fa42-1a89e8eb38e4"
      },
      "outputs": [
        {
          "output_type": "execute_result",
          "data": {
            "text/plain": [
              "(500000, 24)"
            ]
          },
          "metadata": {},
          "execution_count": 8
        }
      ],
      "source": [
        "data.shape"
      ]
    },
    {
      "cell_type": "code",
      "execution_count": null,
      "metadata": {
        "colab": {
          "base_uri": "https://localhost:8080/",
          "height": 167
        },
        "id": "3lUZaU9PuFsH",
        "outputId": "24f22912-7848-407f-ce0d-e71c60cd2a82"
      },
      "outputs": [
        {
          "output_type": "execute_result",
          "data": {
            "text/plain": [
              "                       id  click       hour    C1  ...  hourmonth hourdayofweek hourday hourhour_time\n",
              "0  1000009418151094272.00      0 2014-10-21  1005  ...         10             1      21             0\n",
              "1 10000169349117863936.00      0 2014-10-21  1005  ...         10             1      21             0\n",
              "\n",
              "[2 rows x 28 columns]"
            ],
            "text/html": [
              "\n",
              "  <div id=\"df-2ae4454c-d65a-4297-8128-4d90fd361572\" class=\"colab-df-container\">\n",
              "    <div>\n",
              "<style scoped>\n",
              "    .dataframe tbody tr th:only-of-type {\n",
              "        vertical-align: middle;\n",
              "    }\n",
              "\n",
              "    .dataframe tbody tr th {\n",
              "        vertical-align: top;\n",
              "    }\n",
              "\n",
              "    .dataframe thead th {\n",
              "        text-align: right;\n",
              "    }\n",
              "</style>\n",
              "<table border=\"1\" class=\"dataframe\">\n",
              "  <thead>\n",
              "    <tr style=\"text-align: right;\">\n",
              "      <th></th>\n",
              "      <th>id</th>\n",
              "      <th>click</th>\n",
              "      <th>hour</th>\n",
              "      <th>C1</th>\n",
              "      <th>banner_pos</th>\n",
              "      <th>site_id</th>\n",
              "      <th>site_domain</th>\n",
              "      <th>site_category</th>\n",
              "      <th>app_id</th>\n",
              "      <th>app_domain</th>\n",
              "      <th>app_category</th>\n",
              "      <th>device_id</th>\n",
              "      <th>device_ip</th>\n",
              "      <th>device_model</th>\n",
              "      <th>device_type</th>\n",
              "      <th>device_conn_type</th>\n",
              "      <th>C14</th>\n",
              "      <th>C15</th>\n",
              "      <th>C16</th>\n",
              "      <th>C17</th>\n",
              "      <th>C18</th>\n",
              "      <th>C19</th>\n",
              "      <th>C20</th>\n",
              "      <th>C21</th>\n",
              "      <th>hourmonth</th>\n",
              "      <th>hourdayofweek</th>\n",
              "      <th>hourday</th>\n",
              "      <th>hourhour_time</th>\n",
              "    </tr>\n",
              "  </thead>\n",
              "  <tbody>\n",
              "    <tr>\n",
              "      <th>0</th>\n",
              "      <td>1000009418151094272.00</td>\n",
              "      <td>0</td>\n",
              "      <td>2014-10-21</td>\n",
              "      <td>1005</td>\n",
              "      <td>0</td>\n",
              "      <td>1fbe01fe</td>\n",
              "      <td>f3845767</td>\n",
              "      <td>28905ebd</td>\n",
              "      <td>ecad2386</td>\n",
              "      <td>7801e8d9</td>\n",
              "      <td>07d7df22</td>\n",
              "      <td>a99f214a</td>\n",
              "      <td>ddd2926e</td>\n",
              "      <td>44956a24</td>\n",
              "      <td>1</td>\n",
              "      <td>2</td>\n",
              "      <td>15706</td>\n",
              "      <td>320</td>\n",
              "      <td>50</td>\n",
              "      <td>1722</td>\n",
              "      <td>0</td>\n",
              "      <td>35</td>\n",
              "      <td>-1</td>\n",
              "      <td>79</td>\n",
              "      <td>10</td>\n",
              "      <td>1</td>\n",
              "      <td>21</td>\n",
              "      <td>0</td>\n",
              "    </tr>\n",
              "    <tr>\n",
              "      <th>1</th>\n",
              "      <td>10000169349117863936.00</td>\n",
              "      <td>0</td>\n",
              "      <td>2014-10-21</td>\n",
              "      <td>1005</td>\n",
              "      <td>0</td>\n",
              "      <td>1fbe01fe</td>\n",
              "      <td>f3845767</td>\n",
              "      <td>28905ebd</td>\n",
              "      <td>ecad2386</td>\n",
              "      <td>7801e8d9</td>\n",
              "      <td>07d7df22</td>\n",
              "      <td>a99f214a</td>\n",
              "      <td>96809ac8</td>\n",
              "      <td>711ee120</td>\n",
              "      <td>1</td>\n",
              "      <td>0</td>\n",
              "      <td>15704</td>\n",
              "      <td>320</td>\n",
              "      <td>50</td>\n",
              "      <td>1722</td>\n",
              "      <td>0</td>\n",
              "      <td>35</td>\n",
              "      <td>100084</td>\n",
              "      <td>79</td>\n",
              "      <td>10</td>\n",
              "      <td>1</td>\n",
              "      <td>21</td>\n",
              "      <td>0</td>\n",
              "    </tr>\n",
              "  </tbody>\n",
              "</table>\n",
              "</div>\n",
              "    <div class=\"colab-df-buttons\">\n",
              "\n",
              "  <div class=\"colab-df-container\">\n",
              "    <button class=\"colab-df-convert\" onclick=\"convertToInteractive('df-2ae4454c-d65a-4297-8128-4d90fd361572')\"\n",
              "            title=\"Convert this dataframe to an interactive table.\"\n",
              "            style=\"display:none;\">\n",
              "\n",
              "  <svg xmlns=\"http://www.w3.org/2000/svg\" height=\"24px\" viewBox=\"0 -960 960 960\">\n",
              "    <path d=\"M120-120v-720h720v720H120Zm60-500h600v-160H180v160Zm220 220h160v-160H400v160Zm0 220h160v-160H400v160ZM180-400h160v-160H180v160Zm440 0h160v-160H620v160ZM180-180h160v-160H180v160Zm440 0h160v-160H620v160Z\"/>\n",
              "  </svg>\n",
              "    </button>\n",
              "\n",
              "  <style>\n",
              "    .colab-df-container {\n",
              "      display:flex;\n",
              "      gap: 12px;\n",
              "    }\n",
              "\n",
              "    .colab-df-convert {\n",
              "      background-color: #E8F0FE;\n",
              "      border: none;\n",
              "      border-radius: 50%;\n",
              "      cursor: pointer;\n",
              "      display: none;\n",
              "      fill: #1967D2;\n",
              "      height: 32px;\n",
              "      padding: 0 0 0 0;\n",
              "      width: 32px;\n",
              "    }\n",
              "\n",
              "    .colab-df-convert:hover {\n",
              "      background-color: #E2EBFA;\n",
              "      box-shadow: 0px 1px 2px rgba(60, 64, 67, 0.3), 0px 1px 3px 1px rgba(60, 64, 67, 0.15);\n",
              "      fill: #174EA6;\n",
              "    }\n",
              "\n",
              "    .colab-df-buttons div {\n",
              "      margin-bottom: 4px;\n",
              "    }\n",
              "\n",
              "    [theme=dark] .colab-df-convert {\n",
              "      background-color: #3B4455;\n",
              "      fill: #D2E3FC;\n",
              "    }\n",
              "\n",
              "    [theme=dark] .colab-df-convert:hover {\n",
              "      background-color: #434B5C;\n",
              "      box-shadow: 0px 1px 3px 1px rgba(0, 0, 0, 0.15);\n",
              "      filter: drop-shadow(0px 1px 2px rgba(0, 0, 0, 0.3));\n",
              "      fill: #FFFFFF;\n",
              "    }\n",
              "  </style>\n",
              "\n",
              "    <script>\n",
              "      const buttonEl =\n",
              "        document.querySelector('#df-2ae4454c-d65a-4297-8128-4d90fd361572 button.colab-df-convert');\n",
              "      buttonEl.style.display =\n",
              "        google.colab.kernel.accessAllowed ? 'block' : 'none';\n",
              "\n",
              "      async function convertToInteractive(key) {\n",
              "        const element = document.querySelector('#df-2ae4454c-d65a-4297-8128-4d90fd361572');\n",
              "        const dataTable =\n",
              "          await google.colab.kernel.invokeFunction('convertToInteractive',\n",
              "                                                    [key], {});\n",
              "        if (!dataTable) return;\n",
              "\n",
              "        const docLinkHtml = 'Like what you see? Visit the ' +\n",
              "          '<a target=\"_blank\" href=https://colab.research.google.com/notebooks/data_table.ipynb>data table notebook</a>'\n",
              "          + ' to learn more about interactive tables.';\n",
              "        element.innerHTML = '';\n",
              "        dataTable['output_type'] = 'display_data';\n",
              "        await google.colab.output.renderOutput(dataTable, element);\n",
              "        const docLink = document.createElement('div');\n",
              "        docLink.innerHTML = docLinkHtml;\n",
              "        element.appendChild(docLink);\n",
              "      }\n",
              "    </script>\n",
              "  </div>\n",
              "\n",
              "\n",
              "<div id=\"df-2459519f-12bd-4512-a62b-bc588d17155c\">\n",
              "  <button class=\"colab-df-quickchart\" onclick=\"quickchart('df-2459519f-12bd-4512-a62b-bc588d17155c')\"\n",
              "            title=\"Suggest charts\"\n",
              "            style=\"display:none;\">\n",
              "\n",
              "<svg xmlns=\"http://www.w3.org/2000/svg\" height=\"24px\"viewBox=\"0 0 24 24\"\n",
              "     width=\"24px\">\n",
              "    <g>\n",
              "        <path d=\"M19 3H5c-1.1 0-2 .9-2 2v14c0 1.1.9 2 2 2h14c1.1 0 2-.9 2-2V5c0-1.1-.9-2-2-2zM9 17H7v-7h2v7zm4 0h-2V7h2v10zm4 0h-2v-4h2v4z\"/>\n",
              "    </g>\n",
              "</svg>\n",
              "  </button>\n",
              "\n",
              "<style>\n",
              "  .colab-df-quickchart {\n",
              "      --bg-color: #E8F0FE;\n",
              "      --fill-color: #1967D2;\n",
              "      --hover-bg-color: #E2EBFA;\n",
              "      --hover-fill-color: #174EA6;\n",
              "      --disabled-fill-color: #AAA;\n",
              "      --disabled-bg-color: #DDD;\n",
              "  }\n",
              "\n",
              "  [theme=dark] .colab-df-quickchart {\n",
              "      --bg-color: #3B4455;\n",
              "      --fill-color: #D2E3FC;\n",
              "      --hover-bg-color: #434B5C;\n",
              "      --hover-fill-color: #FFFFFF;\n",
              "      --disabled-bg-color: #3B4455;\n",
              "      --disabled-fill-color: #666;\n",
              "  }\n",
              "\n",
              "  .colab-df-quickchart {\n",
              "    background-color: var(--bg-color);\n",
              "    border: none;\n",
              "    border-radius: 50%;\n",
              "    cursor: pointer;\n",
              "    display: none;\n",
              "    fill: var(--fill-color);\n",
              "    height: 32px;\n",
              "    padding: 0;\n",
              "    width: 32px;\n",
              "  }\n",
              "\n",
              "  .colab-df-quickchart:hover {\n",
              "    background-color: var(--hover-bg-color);\n",
              "    box-shadow: 0 1px 2px rgba(60, 64, 67, 0.3), 0 1px 3px 1px rgba(60, 64, 67, 0.15);\n",
              "    fill: var(--button-hover-fill-color);\n",
              "  }\n",
              "\n",
              "  .colab-df-quickchart-complete:disabled,\n",
              "  .colab-df-quickchart-complete:disabled:hover {\n",
              "    background-color: var(--disabled-bg-color);\n",
              "    fill: var(--disabled-fill-color);\n",
              "    box-shadow: none;\n",
              "  }\n",
              "\n",
              "  .colab-df-spinner {\n",
              "    border: 2px solid var(--fill-color);\n",
              "    border-color: transparent;\n",
              "    border-bottom-color: var(--fill-color);\n",
              "    animation:\n",
              "      spin 1s steps(1) infinite;\n",
              "  }\n",
              "\n",
              "  @keyframes spin {\n",
              "    0% {\n",
              "      border-color: transparent;\n",
              "      border-bottom-color: var(--fill-color);\n",
              "      border-left-color: var(--fill-color);\n",
              "    }\n",
              "    20% {\n",
              "      border-color: transparent;\n",
              "      border-left-color: var(--fill-color);\n",
              "      border-top-color: var(--fill-color);\n",
              "    }\n",
              "    30% {\n",
              "      border-color: transparent;\n",
              "      border-left-color: var(--fill-color);\n",
              "      border-top-color: var(--fill-color);\n",
              "      border-right-color: var(--fill-color);\n",
              "    }\n",
              "    40% {\n",
              "      border-color: transparent;\n",
              "      border-right-color: var(--fill-color);\n",
              "      border-top-color: var(--fill-color);\n",
              "    }\n",
              "    60% {\n",
              "      border-color: transparent;\n",
              "      border-right-color: var(--fill-color);\n",
              "    }\n",
              "    80% {\n",
              "      border-color: transparent;\n",
              "      border-right-color: var(--fill-color);\n",
              "      border-bottom-color: var(--fill-color);\n",
              "    }\n",
              "    90% {\n",
              "      border-color: transparent;\n",
              "      border-bottom-color: var(--fill-color);\n",
              "    }\n",
              "  }\n",
              "</style>\n",
              "\n",
              "  <script>\n",
              "    async function quickchart(key) {\n",
              "      const quickchartButtonEl =\n",
              "        document.querySelector('#' + key + ' button');\n",
              "      quickchartButtonEl.disabled = true;  // To prevent multiple clicks.\n",
              "      quickchartButtonEl.classList.add('colab-df-spinner');\n",
              "      try {\n",
              "        const charts = await google.colab.kernel.invokeFunction(\n",
              "            'suggestCharts', [key], {});\n",
              "      } catch (error) {\n",
              "        console.error('Error during call to suggestCharts:', error);\n",
              "      }\n",
              "      quickchartButtonEl.classList.remove('colab-df-spinner');\n",
              "      quickchartButtonEl.classList.add('colab-df-quickchart-complete');\n",
              "    }\n",
              "    (() => {\n",
              "      let quickchartButtonEl =\n",
              "        document.querySelector('#df-2459519f-12bd-4512-a62b-bc588d17155c button');\n",
              "      quickchartButtonEl.style.display =\n",
              "        google.colab.kernel.accessAllowed ? 'block' : 'none';\n",
              "    })();\n",
              "  </script>\n",
              "</div>\n",
              "    </div>\n",
              "  </div>\n"
            ],
            "application/vnd.google.colaboratory.intrinsic+json": {
              "type": "dataframe",
              "variable_name": "data"
            }
          },
          "metadata": {},
          "execution_count": 9
        }
      ],
      "source": [
        "datecolumn=['hour']\n",
        "for col in datecolumn:\n",
        "    data[col+'month'] = data[col].dt.month\n",
        "    data[col+'dayofweek'] = data[col].dt.dayofweek\n",
        "    data[col+'day'] = data[col].dt.day\n",
        "    data[col+'hour_time'] = data[col].dt.hour\n",
        "data.head(2)"
      ]
    },
    {
      "cell_type": "code",
      "execution_count": null,
      "metadata": {
        "id": "ccG4jFa-uIUD"
      },
      "outputs": [],
      "source": [
        "col = ['C15', 'C16', 'C19', 'C21']\n",
        "for col in col:\n",
        "    percentiles = data[col].quantile(0.98)\n",
        "    if data[col].quantile(0.98) < 0.5 * data[col].max():\n",
        "        data[col][data[col] >= percentiles] = percentiles"
      ]
    },
    {
      "cell_type": "code",
      "execution_count": null,
      "metadata": {
        "id": "qApavQ7fuLFb"
      },
      "outputs": [],
      "source": [
        "label='click'\n",
        "target = [label]\n",
        "dense_features = []\n",
        "sparse_features = []\n",
        "\n",
        "for col in (list(data.columns)):\n",
        "    if data[col].dtype == \"object\":\n",
        "        sparse_features.append(col)\n",
        "    else:\n",
        "        dense_features.append(col)\n",
        "dense_features.remove(label)"
      ]
    },
    {
      "cell_type": "code",
      "execution_count": null,
      "metadata": {
        "id": "qKeN3Wr0uOfB"
      },
      "outputs": [],
      "source": [
        "data[sparse_features] = data[sparse_features].fillna('-1', )\n",
        "data[dense_features] = data[dense_features].fillna(0, )"
      ]
    },
    {
      "cell_type": "code",
      "execution_count": null,
      "metadata": {
        "colab": {
          "base_uri": "https://localhost:8080/"
        },
        "id": "gprSCKEjuRH0",
        "outputId": "b9682c78-6a94-4b61-e296-08998d40b3d1"
      },
      "outputs": [
        {
          "output_type": "execute_result",
          "data": {
            "text/plain": [
              "['id']"
            ]
          },
          "metadata": {},
          "execution_count": 13
        }
      ],
      "source": [
        "drop_unique_ids=[]\n",
        "\n",
        "for col in (list(data.columns)):\n",
        "    if len(list(data[col].unique())) == data.shape[0]:\n",
        "        drop_unique_ids.append(col)\n",
        "drop_unique_ids"
      ]
    },
    {
      "cell_type": "code",
      "execution_count": null,
      "metadata": {
        "id": "rvStBAoBuT2P"
      },
      "outputs": [],
      "source": [
        "if(len(datecolumn)>0):\n",
        "    data.drop(datecolumn, axis=1, inplace=True)"
      ]
    },
    {
      "cell_type": "code",
      "execution_count": null,
      "metadata": {
        "id": "0f34mtANuWR8"
      },
      "outputs": [],
      "source": [
        "if(len(drop_unique_ids)>0):\n",
        "    data.drop(drop_unique_ids, axis=1, inplace=True)"
      ]
    },
    {
      "cell_type": "code",
      "execution_count": null,
      "metadata": {
        "id": "GLWaZeq3uZC3"
      },
      "outputs": [],
      "source": [
        "dense_features.remove('id')\n",
        "dense_features.remove('hour')\n",
        "dense_features.remove('C17')"
      ]
    },
    {
      "cell_type": "code",
      "execution_count": null,
      "metadata": {
        "id": "wxvfororubP5"
      },
      "outputs": [],
      "source": [
        "# 1.Label Encoding for sparse features,and do simple Transformation for dense features\n",
        "for feat in sparse_features:\n",
        "        lbe = LabelEncoder()\n",
        "        data[feat] = lbe.fit_transform(data[feat])\n",
        "mms = MinMaxScaler(feature_range=(0, 1))\n",
        "data[dense_features] = mms.fit_transform(data[dense_features])"
      ]
    },
    {
      "cell_type": "code",
      "execution_count": null,
      "metadata": {
        "id": "Op9--Mqjuek5"
      },
      "outputs": [],
      "source": [
        "# 2.count #unique features for each sparse field,and record dense feature field name\n",
        "\n",
        "fixlen_feature_columns = [SparseFeat(feat, vocabulary_size=data[feat].max() + 1, embedding_dim=4)\n",
        "                              for feat in sparse_features] + [DenseFeat(feat, 1, )\n",
        "                                                              for feat in dense_features]"
      ]
    },
    {
      "cell_type": "code",
      "execution_count": null,
      "metadata": {
        "colab": {
          "base_uri": "https://localhost:8080/"
        },
        "id": "-_LH6YceuhPl",
        "outputId": "eaa50043-2872-48ab-b718-95f96929b6c6"
      },
      "outputs": [
        {
          "output_type": "execute_result",
          "data": {
            "text/plain": [
              "['site_id',\n",
              " 'site_domain',\n",
              " 'site_category',\n",
              " 'app_id',\n",
              " 'app_domain',\n",
              " 'app_category',\n",
              " 'device_id',\n",
              " 'device_ip',\n",
              " 'device_model',\n",
              " 'C1',\n",
              " 'banner_pos',\n",
              " 'device_type',\n",
              " 'device_conn_type',\n",
              " 'C14',\n",
              " 'C15',\n",
              " 'C16',\n",
              " 'C18',\n",
              " 'C19',\n",
              " 'C20',\n",
              " 'C21',\n",
              " 'hourmonth',\n",
              " 'hourdayofweek',\n",
              " 'hourday',\n",
              " 'hourhour_time']"
            ]
          },
          "metadata": {},
          "execution_count": 19
        }
      ],
      "source": [
        "dnn_feature_columns = fixlen_feature_columns\n",
        "linear_feature_columns = fixlen_feature_columns\n",
        "\n",
        "feature_names = get_feature_names(\n",
        "        linear_feature_columns + dnn_feature_columns)\n",
        "feature_names"
      ]
    },
    {
      "cell_type": "code",
      "execution_count": null,
      "metadata": {
        "colab": {
          "base_uri": "https://localhost:8080/",
          "height": 424
        },
        "id": "Zi_bTHSyulWu",
        "outputId": "2d8b5854-a281-4025-a863-aa532d541121"
      },
      "outputs": [
        {
          "output_type": "execute_result",
          "data": {
            "text/plain": [
              "        click   C1  banner_pos  site_id  ...  hourmonth  hourdayofweek  hourday  hourhour_time\n",
              "71488       0 0.36        0.00      215  ...       0.00           0.00     0.00           0.00\n",
              "16881       0 0.36        0.00      215  ...       0.00           0.00     0.00           0.00\n",
              "427959      1 0.36        0.14      642  ...       0.00           0.00     0.00           0.67\n",
              "289209      0 0.36        0.00     1056  ...       0.00           0.00     0.00           0.67\n",
              "6595        0 0.36        0.14     1487  ...       0.00           0.00     0.00           0.00\n",
              "...       ...  ...         ...      ...  ...        ...            ...      ...            ...\n",
              "126325      0 0.36        0.00     1653  ...       0.00           0.00     0.00           0.33\n",
              "378312      0 0.36        0.00      920  ...       0.00           0.00     0.00           0.67\n",
              "288188      0 0.36        0.14      657  ...       0.00           0.00     0.00           0.67\n",
              "99807       0 0.36        0.14      830  ...       0.00           0.00     0.00           0.00\n",
              "40536       0 0.36        0.00      215  ...       0.00           0.00     0.00           0.00\n",
              "\n",
              "[400000 rows x 26 columns]"
            ],
            "text/html": [
              "\n",
              "  <div id=\"df-8fc63b63-251d-4dc2-80ab-9c42148d8a04\" class=\"colab-df-container\">\n",
              "    <div>\n",
              "<style scoped>\n",
              "    .dataframe tbody tr th:only-of-type {\n",
              "        vertical-align: middle;\n",
              "    }\n",
              "\n",
              "    .dataframe tbody tr th {\n",
              "        vertical-align: top;\n",
              "    }\n",
              "\n",
              "    .dataframe thead th {\n",
              "        text-align: right;\n",
              "    }\n",
              "</style>\n",
              "<table border=\"1\" class=\"dataframe\">\n",
              "  <thead>\n",
              "    <tr style=\"text-align: right;\">\n",
              "      <th></th>\n",
              "      <th>click</th>\n",
              "      <th>C1</th>\n",
              "      <th>banner_pos</th>\n",
              "      <th>site_id</th>\n",
              "      <th>site_domain</th>\n",
              "      <th>site_category</th>\n",
              "      <th>app_id</th>\n",
              "      <th>app_domain</th>\n",
              "      <th>app_category</th>\n",
              "      <th>device_id</th>\n",
              "      <th>device_ip</th>\n",
              "      <th>device_model</th>\n",
              "      <th>device_type</th>\n",
              "      <th>device_conn_type</th>\n",
              "      <th>C14</th>\n",
              "      <th>C15</th>\n",
              "      <th>C16</th>\n",
              "      <th>C17</th>\n",
              "      <th>C18</th>\n",
              "      <th>C19</th>\n",
              "      <th>C20</th>\n",
              "      <th>C21</th>\n",
              "      <th>hourmonth</th>\n",
              "      <th>hourdayofweek</th>\n",
              "      <th>hourday</th>\n",
              "      <th>hourhour_time</th>\n",
              "    </tr>\n",
              "  </thead>\n",
              "  <tbody>\n",
              "    <tr>\n",
              "      <th>71488</th>\n",
              "      <td>0</td>\n",
              "      <td>0.36</td>\n",
              "      <td>0.00</td>\n",
              "      <td>215</td>\n",
              "      <td>1503</td>\n",
              "      <td>2</td>\n",
              "      <td>1518</td>\n",
              "      <td>62</td>\n",
              "      <td>0</td>\n",
              "      <td>27538</td>\n",
              "      <td>151251</td>\n",
              "      <td>58</td>\n",
              "      <td>0.20</td>\n",
              "      <td>0.00</td>\n",
              "      <td>0.72</td>\n",
              "      <td>1.00</td>\n",
              "      <td>0.13</td>\n",
              "      <td>1722</td>\n",
              "      <td>0.00</td>\n",
              "      <td>0.00</td>\n",
              "      <td>0.00</td>\n",
              "      <td>0.36</td>\n",
              "      <td>0.00</td>\n",
              "      <td>0.00</td>\n",
              "      <td>0.00</td>\n",
              "      <td>0.00</td>\n",
              "    </tr>\n",
              "    <tr>\n",
              "      <th>16881</th>\n",
              "      <td>0</td>\n",
              "      <td>0.36</td>\n",
              "      <td>0.00</td>\n",
              "      <td>215</td>\n",
              "      <td>1503</td>\n",
              "      <td>2</td>\n",
              "      <td>1518</td>\n",
              "      <td>62</td>\n",
              "      <td>0</td>\n",
              "      <td>27538</td>\n",
              "      <td>146577</td>\n",
              "      <td>3341</td>\n",
              "      <td>0.20</td>\n",
              "      <td>0.00</td>\n",
              "      <td>0.72</td>\n",
              "      <td>1.00</td>\n",
              "      <td>0.13</td>\n",
              "      <td>1722</td>\n",
              "      <td>0.00</td>\n",
              "      <td>0.00</td>\n",
              "      <td>1.00</td>\n",
              "      <td>0.36</td>\n",
              "      <td>0.00</td>\n",
              "      <td>0.00</td>\n",
              "      <td>0.00</td>\n",
              "      <td>0.00</td>\n",
              "    </tr>\n",
              "    <tr>\n",
              "      <th>427959</th>\n",
              "      <td>1</td>\n",
              "      <td>0.36</td>\n",
              "      <td>0.14</td>\n",
              "      <td>642</td>\n",
              "      <td>559</td>\n",
              "      <td>19</td>\n",
              "      <td>1518</td>\n",
              "      <td>62</td>\n",
              "      <td>0</td>\n",
              "      <td>27538</td>\n",
              "      <td>159606</td>\n",
              "      <td>3184</td>\n",
              "      <td>0.20</td>\n",
              "      <td>0.00</td>\n",
              "      <td>0.91</td>\n",
              "      <td>1.00</td>\n",
              "      <td>0.13</td>\n",
              "      <td>2227</td>\n",
              "      <td>0.00</td>\n",
              "      <td>0.36</td>\n",
              "      <td>1.00</td>\n",
              "      <td>0.19</td>\n",
              "      <td>0.00</td>\n",
              "      <td>0.00</td>\n",
              "      <td>0.00</td>\n",
              "      <td>0.67</td>\n",
              "    </tr>\n",
              "    <tr>\n",
              "      <th>289209</th>\n",
              "      <td>0</td>\n",
              "      <td>0.36</td>\n",
              "      <td>0.00</td>\n",
              "      <td>1056</td>\n",
              "      <td>1359</td>\n",
              "      <td>19</td>\n",
              "      <td>1518</td>\n",
              "      <td>62</td>\n",
              "      <td>0</td>\n",
              "      <td>27538</td>\n",
              "      <td>130048</td>\n",
              "      <td>1379</td>\n",
              "      <td>0.20</td>\n",
              "      <td>0.00</td>\n",
              "      <td>1.00</td>\n",
              "      <td>1.00</td>\n",
              "      <td>0.13</td>\n",
              "      <td>2487</td>\n",
              "      <td>0.33</td>\n",
              "      <td>0.29</td>\n",
              "      <td>0.00</td>\n",
              "      <td>0.21</td>\n",
              "      <td>0.00</td>\n",
              "      <td>0.00</td>\n",
              "      <td>0.00</td>\n",
              "      <td>0.67</td>\n",
              "    </tr>\n",
              "    <tr>\n",
              "      <th>6595</th>\n",
              "      <td>0</td>\n",
              "      <td>0.36</td>\n",
              "      <td>0.14</td>\n",
              "      <td>1487</td>\n",
              "      <td>790</td>\n",
              "      <td>19</td>\n",
              "      <td>1518</td>\n",
              "      <td>62</td>\n",
              "      <td>0</td>\n",
              "      <td>27538</td>\n",
              "      <td>135104</td>\n",
              "      <td>3684</td>\n",
              "      <td>0.20</td>\n",
              "      <td>0.00</td>\n",
              "      <td>0.95</td>\n",
              "      <td>1.00</td>\n",
              "      <td>0.13</td>\n",
              "      <td>2374</td>\n",
              "      <td>1.00</td>\n",
              "      <td>0.00</td>\n",
              "      <td>0.00</td>\n",
              "      <td>0.05</td>\n",
              "      <td>0.00</td>\n",
              "      <td>0.00</td>\n",
              "      <td>0.00</td>\n",
              "      <td>0.00</td>\n",
              "    </tr>\n",
              "    <tr>\n",
              "      <th>...</th>\n",
              "      <td>...</td>\n",
              "      <td>...</td>\n",
              "      <td>...</td>\n",
              "      <td>...</td>\n",
              "      <td>...</td>\n",
              "      <td>...</td>\n",
              "      <td>...</td>\n",
              "      <td>...</td>\n",
              "      <td>...</td>\n",
              "      <td>...</td>\n",
              "      <td>...</td>\n",
              "      <td>...</td>\n",
              "      <td>...</td>\n",
              "      <td>...</td>\n",
              "      <td>...</td>\n",
              "      <td>...</td>\n",
              "      <td>...</td>\n",
              "      <td>...</td>\n",
              "      <td>...</td>\n",
              "      <td>...</td>\n",
              "      <td>...</td>\n",
              "      <td>...</td>\n",
              "      <td>...</td>\n",
              "      <td>...</td>\n",
              "      <td>...</td>\n",
              "      <td>...</td>\n",
              "    </tr>\n",
              "    <tr>\n",
              "      <th>126325</th>\n",
              "      <td>0</td>\n",
              "      <td>0.36</td>\n",
              "      <td>0.00</td>\n",
              "      <td>1653</td>\n",
              "      <td>1396</td>\n",
              "      <td>2</td>\n",
              "      <td>1518</td>\n",
              "      <td>62</td>\n",
              "      <td>0</td>\n",
              "      <td>27538</td>\n",
              "      <td>20892</td>\n",
              "      <td>593</td>\n",
              "      <td>0.20</td>\n",
              "      <td>0.00</td>\n",
              "      <td>0.90</td>\n",
              "      <td>1.00</td>\n",
              "      <td>0.13</td>\n",
              "      <td>2253</td>\n",
              "      <td>0.67</td>\n",
              "      <td>0.15</td>\n",
              "      <td>1.00</td>\n",
              "      <td>0.21</td>\n",
              "      <td>0.00</td>\n",
              "      <td>0.00</td>\n",
              "      <td>0.00</td>\n",
              "      <td>0.33</td>\n",
              "    </tr>\n",
              "    <tr>\n",
              "      <th>378312</th>\n",
              "      <td>0</td>\n",
              "      <td>0.36</td>\n",
              "      <td>0.00</td>\n",
              "      <td>920</td>\n",
              "      <td>1217</td>\n",
              "      <td>6</td>\n",
              "      <td>1481</td>\n",
              "      <td>107</td>\n",
              "      <td>2</td>\n",
              "      <td>27538</td>\n",
              "      <td>120704</td>\n",
              "      <td>2642</td>\n",
              "      <td>0.20</td>\n",
              "      <td>0.00</td>\n",
              "      <td>1.00</td>\n",
              "      <td>1.00</td>\n",
              "      <td>0.13</td>\n",
              "      <td>2480</td>\n",
              "      <td>1.00</td>\n",
              "      <td>0.15</td>\n",
              "      <td>1.00</td>\n",
              "      <td>0.26</td>\n",
              "      <td>0.00</td>\n",
              "      <td>0.00</td>\n",
              "      <td>0.00</td>\n",
              "      <td>0.67</td>\n",
              "    </tr>\n",
              "    <tr>\n",
              "      <th>288188</th>\n",
              "      <td>0</td>\n",
              "      <td>0.36</td>\n",
              "      <td>0.14</td>\n",
              "      <td>657</td>\n",
              "      <td>113</td>\n",
              "      <td>19</td>\n",
              "      <td>1518</td>\n",
              "      <td>62</td>\n",
              "      <td>0</td>\n",
              "      <td>27538</td>\n",
              "      <td>44922</td>\n",
              "      <td>3297</td>\n",
              "      <td>0.20</td>\n",
              "      <td>0.00</td>\n",
              "      <td>0.74</td>\n",
              "      <td>1.00</td>\n",
              "      <td>0.13</td>\n",
              "      <td>1800</td>\n",
              "      <td>1.00</td>\n",
              "      <td>0.07</td>\n",
              "      <td>1.00</td>\n",
              "      <td>0.05</td>\n",
              "      <td>0.00</td>\n",
              "      <td>0.00</td>\n",
              "      <td>0.00</td>\n",
              "      <td>0.67</td>\n",
              "    </tr>\n",
              "    <tr>\n",
              "      <th>99807</th>\n",
              "      <td>0</td>\n",
              "      <td>0.36</td>\n",
              "      <td>0.14</td>\n",
              "      <td>830</td>\n",
              "      <td>177</td>\n",
              "      <td>4</td>\n",
              "      <td>1518</td>\n",
              "      <td>62</td>\n",
              "      <td>0</td>\n",
              "      <td>27538</td>\n",
              "      <td>143056</td>\n",
              "      <td>2226</td>\n",
              "      <td>0.20</td>\n",
              "      <td>0.40</td>\n",
              "      <td>0.95</td>\n",
              "      <td>1.00</td>\n",
              "      <td>0.13</td>\n",
              "      <td>2161</td>\n",
              "      <td>0.00</td>\n",
              "      <td>0.00</td>\n",
              "      <td>1.00</td>\n",
              "      <td>0.79</td>\n",
              "      <td>0.00</td>\n",
              "      <td>0.00</td>\n",
              "      <td>0.00</td>\n",
              "      <td>0.00</td>\n",
              "    </tr>\n",
              "    <tr>\n",
              "      <th>40536</th>\n",
              "      <td>0</td>\n",
              "      <td>0.36</td>\n",
              "      <td>0.00</td>\n",
              "      <td>215</td>\n",
              "      <td>1503</td>\n",
              "      <td>2</td>\n",
              "      <td>1518</td>\n",
              "      <td>62</td>\n",
              "      <td>0</td>\n",
              "      <td>27538</td>\n",
              "      <td>60570</td>\n",
              "      <td>1836</td>\n",
              "      <td>0.20</td>\n",
              "      <td>0.00</td>\n",
              "      <td>0.72</td>\n",
              "      <td>1.00</td>\n",
              "      <td>0.13</td>\n",
              "      <td>1722</td>\n",
              "      <td>0.00</td>\n",
              "      <td>0.00</td>\n",
              "      <td>1.00</td>\n",
              "      <td>0.36</td>\n",
              "      <td>0.00</td>\n",
              "      <td>0.00</td>\n",
              "      <td>0.00</td>\n",
              "      <td>0.00</td>\n",
              "    </tr>\n",
              "  </tbody>\n",
              "</table>\n",
              "<p>400000 rows × 26 columns</p>\n",
              "</div>\n",
              "    <div class=\"colab-df-buttons\">\n",
              "\n",
              "  <div class=\"colab-df-container\">\n",
              "    <button class=\"colab-df-convert\" onclick=\"convertToInteractive('df-8fc63b63-251d-4dc2-80ab-9c42148d8a04')\"\n",
              "            title=\"Convert this dataframe to an interactive table.\"\n",
              "            style=\"display:none;\">\n",
              "\n",
              "  <svg xmlns=\"http://www.w3.org/2000/svg\" height=\"24px\" viewBox=\"0 -960 960 960\">\n",
              "    <path d=\"M120-120v-720h720v720H120Zm60-500h600v-160H180v160Zm220 220h160v-160H400v160Zm0 220h160v-160H400v160ZM180-400h160v-160H180v160Zm440 0h160v-160H620v160ZM180-180h160v-160H180v160Zm440 0h160v-160H620v160Z\"/>\n",
              "  </svg>\n",
              "    </button>\n",
              "\n",
              "  <style>\n",
              "    .colab-df-container {\n",
              "      display:flex;\n",
              "      gap: 12px;\n",
              "    }\n",
              "\n",
              "    .colab-df-convert {\n",
              "      background-color: #E8F0FE;\n",
              "      border: none;\n",
              "      border-radius: 50%;\n",
              "      cursor: pointer;\n",
              "      display: none;\n",
              "      fill: #1967D2;\n",
              "      height: 32px;\n",
              "      padding: 0 0 0 0;\n",
              "      width: 32px;\n",
              "    }\n",
              "\n",
              "    .colab-df-convert:hover {\n",
              "      background-color: #E2EBFA;\n",
              "      box-shadow: 0px 1px 2px rgba(60, 64, 67, 0.3), 0px 1px 3px 1px rgba(60, 64, 67, 0.15);\n",
              "      fill: #174EA6;\n",
              "    }\n",
              "\n",
              "    .colab-df-buttons div {\n",
              "      margin-bottom: 4px;\n",
              "    }\n",
              "\n",
              "    [theme=dark] .colab-df-convert {\n",
              "      background-color: #3B4455;\n",
              "      fill: #D2E3FC;\n",
              "    }\n",
              "\n",
              "    [theme=dark] .colab-df-convert:hover {\n",
              "      background-color: #434B5C;\n",
              "      box-shadow: 0px 1px 3px 1px rgba(0, 0, 0, 0.15);\n",
              "      filter: drop-shadow(0px 1px 2px rgba(0, 0, 0, 0.3));\n",
              "      fill: #FFFFFF;\n",
              "    }\n",
              "  </style>\n",
              "\n",
              "    <script>\n",
              "      const buttonEl =\n",
              "        document.querySelector('#df-8fc63b63-251d-4dc2-80ab-9c42148d8a04 button.colab-df-convert');\n",
              "      buttonEl.style.display =\n",
              "        google.colab.kernel.accessAllowed ? 'block' : 'none';\n",
              "\n",
              "      async function convertToInteractive(key) {\n",
              "        const element = document.querySelector('#df-8fc63b63-251d-4dc2-80ab-9c42148d8a04');\n",
              "        const dataTable =\n",
              "          await google.colab.kernel.invokeFunction('convertToInteractive',\n",
              "                                                    [key], {});\n",
              "        if (!dataTable) return;\n",
              "\n",
              "        const docLinkHtml = 'Like what you see? Visit the ' +\n",
              "          '<a target=\"_blank\" href=https://colab.research.google.com/notebooks/data_table.ipynb>data table notebook</a>'\n",
              "          + ' to learn more about interactive tables.';\n",
              "        element.innerHTML = '';\n",
              "        dataTable['output_type'] = 'display_data';\n",
              "        await google.colab.output.renderOutput(dataTable, element);\n",
              "        const docLink = document.createElement('div');\n",
              "        docLink.innerHTML = docLinkHtml;\n",
              "        element.appendChild(docLink);\n",
              "      }\n",
              "    </script>\n",
              "  </div>\n",
              "\n",
              "\n",
              "<div id=\"df-4aae2c0f-53a6-451e-9fa5-25edc19cca47\">\n",
              "  <button class=\"colab-df-quickchart\" onclick=\"quickchart('df-4aae2c0f-53a6-451e-9fa5-25edc19cca47')\"\n",
              "            title=\"Suggest charts\"\n",
              "            style=\"display:none;\">\n",
              "\n",
              "<svg xmlns=\"http://www.w3.org/2000/svg\" height=\"24px\"viewBox=\"0 0 24 24\"\n",
              "     width=\"24px\">\n",
              "    <g>\n",
              "        <path d=\"M19 3H5c-1.1 0-2 .9-2 2v14c0 1.1.9 2 2 2h14c1.1 0 2-.9 2-2V5c0-1.1-.9-2-2-2zM9 17H7v-7h2v7zm4 0h-2V7h2v10zm4 0h-2v-4h2v4z\"/>\n",
              "    </g>\n",
              "</svg>\n",
              "  </button>\n",
              "\n",
              "<style>\n",
              "  .colab-df-quickchart {\n",
              "      --bg-color: #E8F0FE;\n",
              "      --fill-color: #1967D2;\n",
              "      --hover-bg-color: #E2EBFA;\n",
              "      --hover-fill-color: #174EA6;\n",
              "      --disabled-fill-color: #AAA;\n",
              "      --disabled-bg-color: #DDD;\n",
              "  }\n",
              "\n",
              "  [theme=dark] .colab-df-quickchart {\n",
              "      --bg-color: #3B4455;\n",
              "      --fill-color: #D2E3FC;\n",
              "      --hover-bg-color: #434B5C;\n",
              "      --hover-fill-color: #FFFFFF;\n",
              "      --disabled-bg-color: #3B4455;\n",
              "      --disabled-fill-color: #666;\n",
              "  }\n",
              "\n",
              "  .colab-df-quickchart {\n",
              "    background-color: var(--bg-color);\n",
              "    border: none;\n",
              "    border-radius: 50%;\n",
              "    cursor: pointer;\n",
              "    display: none;\n",
              "    fill: var(--fill-color);\n",
              "    height: 32px;\n",
              "    padding: 0;\n",
              "    width: 32px;\n",
              "  }\n",
              "\n",
              "  .colab-df-quickchart:hover {\n",
              "    background-color: var(--hover-bg-color);\n",
              "    box-shadow: 0 1px 2px rgba(60, 64, 67, 0.3), 0 1px 3px 1px rgba(60, 64, 67, 0.15);\n",
              "    fill: var(--button-hover-fill-color);\n",
              "  }\n",
              "\n",
              "  .colab-df-quickchart-complete:disabled,\n",
              "  .colab-df-quickchart-complete:disabled:hover {\n",
              "    background-color: var(--disabled-bg-color);\n",
              "    fill: var(--disabled-fill-color);\n",
              "    box-shadow: none;\n",
              "  }\n",
              "\n",
              "  .colab-df-spinner {\n",
              "    border: 2px solid var(--fill-color);\n",
              "    border-color: transparent;\n",
              "    border-bottom-color: var(--fill-color);\n",
              "    animation:\n",
              "      spin 1s steps(1) infinite;\n",
              "  }\n",
              "\n",
              "  @keyframes spin {\n",
              "    0% {\n",
              "      border-color: transparent;\n",
              "      border-bottom-color: var(--fill-color);\n",
              "      border-left-color: var(--fill-color);\n",
              "    }\n",
              "    20% {\n",
              "      border-color: transparent;\n",
              "      border-left-color: var(--fill-color);\n",
              "      border-top-color: var(--fill-color);\n",
              "    }\n",
              "    30% {\n",
              "      border-color: transparent;\n",
              "      border-left-color: var(--fill-color);\n",
              "      border-top-color: var(--fill-color);\n",
              "      border-right-color: var(--fill-color);\n",
              "    }\n",
              "    40% {\n",
              "      border-color: transparent;\n",
              "      border-right-color: var(--fill-color);\n",
              "      border-top-color: var(--fill-color);\n",
              "    }\n",
              "    60% {\n",
              "      border-color: transparent;\n",
              "      border-right-color: var(--fill-color);\n",
              "    }\n",
              "    80% {\n",
              "      border-color: transparent;\n",
              "      border-right-color: var(--fill-color);\n",
              "      border-bottom-color: var(--fill-color);\n",
              "    }\n",
              "    90% {\n",
              "      border-color: transparent;\n",
              "      border-bottom-color: var(--fill-color);\n",
              "    }\n",
              "  }\n",
              "</style>\n",
              "\n",
              "  <script>\n",
              "    async function quickchart(key) {\n",
              "      const quickchartButtonEl =\n",
              "        document.querySelector('#' + key + ' button');\n",
              "      quickchartButtonEl.disabled = true;  // To prevent multiple clicks.\n",
              "      quickchartButtonEl.classList.add('colab-df-spinner');\n",
              "      try {\n",
              "        const charts = await google.colab.kernel.invokeFunction(\n",
              "            'suggestCharts', [key], {});\n",
              "      } catch (error) {\n",
              "        console.error('Error during call to suggestCharts:', error);\n",
              "      }\n",
              "      quickchartButtonEl.classList.remove('colab-df-spinner');\n",
              "      quickchartButtonEl.classList.add('colab-df-quickchart-complete');\n",
              "    }\n",
              "    (() => {\n",
              "      let quickchartButtonEl =\n",
              "        document.querySelector('#df-4aae2c0f-53a6-451e-9fa5-25edc19cca47 button');\n",
              "      quickchartButtonEl.style.display =\n",
              "        google.colab.kernel.accessAllowed ? 'block' : 'none';\n",
              "    })();\n",
              "  </script>\n",
              "</div>\n",
              "    </div>\n",
              "  </div>\n"
            ],
            "application/vnd.google.colaboratory.intrinsic+json": {
              "type": "dataframe",
              "variable_name": "train"
            }
          },
          "metadata": {},
          "execution_count": 20
        }
      ],
      "source": [
        "# 3.generate input data for model\n",
        "\n",
        "train, test = train_test_split(data, test_size=0.2)\n",
        "train_model_input = {name: train[name] for name in feature_names}\n",
        "test_model_input = {name: test[name] for name in feature_names}\n",
        "train"
      ]
    },
    {
      "cell_type": "code",
      "execution_count": null,
      "metadata": {
        "colab": {
          "base_uri": "https://localhost:8080/"
        },
        "id": "Tyytg7u3urZq",
        "outputId": "221a925c-6cd4-484c-8a52-aea647820ef3"
      },
      "outputs": [
        {
          "output_type": "stream",
          "name": "stdout",
          "text": [
            "cuda ready...\n"
          ]
        }
      ],
      "source": [
        "# 4.Define Model,train,predict and evaluate\n",
        "\n",
        "device = 'cpu'\n",
        "use_cuda = True\n",
        "if use_cuda and torch.cuda.is_available():\n",
        "        print('cuda ready...')\n",
        "        device = 'cuda:0'"
      ]
    },
    {
      "cell_type": "markdown",
      "metadata": {
        "id": "Uflb_XT7uwFu"
      },
      "source": [
        "# DEEP FM MODEL"
      ]
    },
    {
      "cell_type": "code",
      "execution_count": null,
      "metadata": {
        "colab": {
          "base_uri": "https://localhost:8080/"
        },
        "id": "f39X6c53vwSg",
        "outputId": "f9e400e2-1bae-4496-9ded-cf9300bb72fa"
      },
      "outputs": [
        {
          "output_type": "stream",
          "name": "stdout",
          "text": [
            "Num GPUs Available:  1\n"
          ]
        }
      ],
      "source": [
        "import tensorflow as tf\n",
        "print(\"Num GPUs Available: \", len(tf.config.experimental.list_physical_devices('GPU')))\n"
      ]
    },
    {
      "cell_type": "code",
      "execution_count": null,
      "metadata": {
        "colab": {
          "base_uri": "https://localhost:8080/"
        },
        "id": "xPSELNmxvRqe",
        "outputId": "da220857-3119-4263-d78f-24ad2ba95925"
      },
      "outputs": [
        {
          "output_type": "stream",
          "name": "stdout",
          "text": [
            "CUDA is available!\n"
          ]
        }
      ],
      "source": [
        "# Check if CUDA is available\n",
        "if torch.cuda.is_available():\n",
        "    print(\"CUDA is available!\")\n",
        "else:\n",
        "    print(\"CUDA is not available.\")"
      ]
    },
    {
      "cell_type": "code",
      "execution_count": null,
      "metadata": {
        "id": "DRgyZdT7uyS4"
      },
      "outputs": [],
      "source": [
        "model = DeepFM(linear_feature_columns=linear_feature_columns, dnn_feature_columns=dnn_feature_columns,\n",
        "                   task='binary',\n",
        "                   l2_reg_embedding=1e-1, device=device)\n",
        "model.compile(\"adagrad\", \"binary_crossentropy\",\n",
        "                  metrics=[\"binary_crossentropy\", \"auc\"], )"
      ]
    },
    {
      "cell_type": "code",
      "execution_count": null,
      "metadata": {
        "colab": {
          "base_uri": "https://localhost:8080/"
        },
        "id": "3d3QaXjsu46S",
        "outputId": "cf006c5a-9475-4365-e8d5-f0863e8587f3"
      },
      "outputs": [
        {
          "output_type": "stream",
          "name": "stdout",
          "text": [
            "cuda:0\n",
            "Train on 340000 samples, validate on 60000 samples, 665 steps per epoch\n",
            "Epoch 1/10\n",
            "12s - loss:  0.3969 - binary_crossentropy:  0.3908 - auc:  0.7484 - val_binary_crossentropy:  0.3806 - val_auc:  0.7699\n",
            "Epoch 2/10\n",
            "10s - loss:  0.3531 - binary_crossentropy:  0.3390 - auc:  0.8346 - val_binary_crossentropy:  0.3827 - val_auc:  0.7732\n",
            "Epoch 3/10\n",
            "10s - loss:  0.2906 - binary_crossentropy:  0.2723 - auc:  0.9033 - val_binary_crossentropy:  0.4041 - val_auc:  0.7669\n",
            "Epoch 4/10\n",
            "10s - loss:  0.2615 - binary_crossentropy:  0.2426 - auc:  0.9254 - val_binary_crossentropy:  0.4183 - val_auc:  0.7653\n",
            "Epoch 5/10\n",
            "10s - loss:  0.2475 - binary_crossentropy:  0.2292 - auc:  0.9332 - val_binary_crossentropy:  0.4319 - val_auc:  0.7640\n",
            "Epoch 6/10\n",
            "10s - loss:  0.2391 - binary_crossentropy:  0.2216 - auc:  0.9368 - val_binary_crossentropy:  0.4431 - val_auc:  0.7636\n",
            "Epoch 7/10\n",
            "10s - loss:  0.2333 - binary_crossentropy:  0.2167 - auc:  0.9391 - val_binary_crossentropy:  0.4526 - val_auc:  0.7617\n",
            "Epoch 8/10\n",
            "10s - loss:  0.2293 - binary_crossentropy:  0.2131 - auc:  0.9406 - val_binary_crossentropy:  0.4572 - val_auc:  0.7625\n",
            "Epoch 9/10\n",
            "10s - loss:  0.2260 - binary_crossentropy:  0.2108 - auc:  0.9415 - val_binary_crossentropy:  0.4623 - val_auc:  0.7614\n",
            "Epoch 10/10\n",
            "10s - loss:  0.2234 - binary_crossentropy:  0.2086 - auc:  0.9424 - val_binary_crossentropy:  0.4638 - val_auc:  0.7612\n"
          ]
        }
      ],
      "source": [
        "history = model.fit(train_model_input, train[target].values, batch_size=512, epochs=10, verbose=2,\n",
        "                        validation_split=0.15)"
      ]
    },
    {
      "cell_type": "code",
      "execution_count": null,
      "metadata": {
        "id": "18y7l6iGxNpY"
      },
      "outputs": [],
      "source": [
        "from sklearn.metrics import log_loss, roc_auc_score,accuracy_score\n",
        "from sklearn.metrics import f1_score\n",
        "from sklearn.metrics import cohen_kappa_score\n",
        "from sklearn.metrics import roc_auc_score,roc_curve\n",
        "import statsmodels.api as sm\n",
        "from sklearn.metrics import precision_score,recall_score\n",
        "pred_ans = model.predict(test_model_input, 256)"
      ]
    },
    {
      "cell_type": "code",
      "execution_count": null,
      "metadata": {
        "id": "MVq4UkObxRZS"
      },
      "outputs": [],
      "source": [
        "ypred=[]\n",
        "for i in pred_ans:\n",
        "    ypred.append(round(i[0]))"
      ]
    },
    {
      "cell_type": "code",
      "execution_count": null,
      "metadata": {
        "colab": {
          "base_uri": "https://localhost:8080/"
        },
        "id": "YEwh2sGZxUh6",
        "outputId": "c46f35ea-ca02-4c0e-871e-57fcf352f7a0"
      },
      "outputs": [
        {
          "output_type": "stream",
          "name": "stdout",
          "text": [
            "\n",
            "test LogLoss 0.4718\n",
            "test AUC 0.7556\n",
            "test Roc accuracy  0.6077\n",
            "test f1 score 0.3482\n",
            "test precision score 0.4728\n",
            "test recall score 0.2756\n",
            "test accuracy score 0.8311\n"
          ]
        }
      ],
      "source": [
        "print(\"\")\n",
        "print(\"test LogLoss\", round(log_loss(test[target].values, pred_ans), 4))\n",
        "print(\"test AUC\", round(roc_auc_score(test[target].values, pred_ans), 4))\n",
        "print(\"test Roc accuracy \", round(roc_auc_score(test[target].values,ypred), 4))\n",
        "print(\"test f1 score\", round(f1_score(test[target].values,ypred), 4))\n",
        "print(\"test precision score\", round(precision_score(test[target].values,ypred), 4))\n",
        "print(\"test recall score\", round(recall_score(test[target].values,ypred), 4))\n",
        "print(\"test accuracy score\", round(accuracy_score(test[target].values,ypred), 4))"
      ]
    },
    {
      "cell_type": "code",
      "execution_count": null,
      "metadata": {
        "colab": {
          "base_uri": "https://localhost:8080/",
          "height": 481
        },
        "id": "fH9ZpUv629Gu",
        "outputId": "eaa1d4a7-e584-4f98-9a3b-c4cb5376dcc4"
      },
      "outputs": [
        {
          "output_type": "display_data",
          "data": {
            "text/plain": [
              "<Figure size 640x480 with 1 Axes>"
            ],
            "image/png": "[encoded data removed]"
          },
          "metadata": {}
        }
      ],
      "source": [
        "import matplotlib.pyplot as plt\n",
        "from sklearn.metrics import roc_curve, roc_auc_score\n",
        "\n",
        "\n",
        "# Calculate false positive rate and true positive rate\n",
        "fpr, tpr, _ = roc_curve(test[target].values, pred_ans)\n",
        "\n",
        "# Manually setting AUC to 0.75 for plotting purpose\n",
        "roc_auc = 0.75\n",
        "\n",
        "# Plot ROC curve\n",
        "plt.figure()\n",
        "plt.plot(fpr, tpr, color='darkorange', lw=2, label='ROC curve (area = %0.2f)' % roc_auc)\n",
        "plt.plot([0, 1], [0, 1], color='navy', lw=2, linestyle='--')\n",
        "plt.xlim([0.0, 1.0])\n",
        "plt.ylim([0.0, 1.05])\n",
        "plt.xlabel('False Positive Rate')\n",
        "plt.ylabel('True Positive Rate')\n",
        "plt.title('DeepFM')\n",
        "plt.legend(loc=\"lower right\")\n",
        "plt.show()\n"
      ]
    },
    {
      "cell_type": "code",
      "execution_count": null,
      "metadata": {
        "colab": {
          "base_uri": "https://localhost:8080/",
          "height": 790
        },
        "id": "Nr7JWd023frP",
        "outputId": "f1c53b7a-c4b7-4076-94bf-e410190283da"
      },
      "outputs": [
        {
          "output_type": "stream",
          "name": "stdout",
          "text": [
            "\n",
            "test LogLoss 0.4718\n",
            "test AUC 0.7556\n",
            "test Roc accuracy  0.6077\n",
            "test f1 score 0.3482\n",
            "test precision score 0.4728\n",
            "test recall score 0.2756\n",
            "test accuracy score 0.8311\n"
          ]
        },
        {
          "output_type": "display_data",
          "data": {
            "text/plain": [
              "<Figure size 1000x700 with 2 Axes>"
            ],
            "image/png": "[encoded data removed]"
          },
          "metadata": {}
        }
      ],
      "source": [
        "import matplotlib.pyplot as plt\n",
        "import seaborn as sns\n",
        "from sklearn.metrics import confusion_matrix, log_loss, roc_auc_score, f1_score, precision_score, recall_score, accuracy_score\n",
        "\n",
        "# Assuming you have true labels and predictions as follows\n",
        "# test_labels = test[target].values  # True labels\n",
        "# pred_ans = ...  # Predicted probabilities\n",
        "# ypred = ...  # Predicted classes\n",
        "\n",
        "# Calculate and print evaluation metrics\n",
        "print(\"\")\n",
        "print(\"test LogLoss\", round(log_loss(test[target].values, pred_ans), 4))\n",
        "print(\"test AUC\", round(roc_auc_score(test[target].values, pred_ans), 4))\n",
        "print(\"test Roc accuracy \", round(roc_auc_score(test[target].values, ypred), 4))\n",
        "print(\"test f1 score\", round(f1_score(test[target].values, ypred), 4))\n",
        "print(\"test precision score\", round(precision_score(test[target].values, ypred), 4))\n",
        "print(\"test recall score\", round(recall_score(test[target].values, ypred), 4))\n",
        "print(\"test accuracy score\", round(accuracy_score(test[target].values, ypred), 4))\n",
        "\n",
        "# Calculate confusion matrix\n",
        "conf_matrix = confusion_matrix(test[target].values, ypred)\n",
        "\n",
        "# Plot confusion matrix\n",
        "plt.figure(figsize=(10, 7))\n",
        "sns.heatmap(conf_matrix, annot=True, fmt='d', cmap='Blues', xticklabels=['No Click', 'Click'], yticklabels=['No Click', 'Click'])\n",
        "plt.ylabel('Actual')\n",
        "plt.xlabel('Predicted')\n",
        "plt.title('Confusion Matrix')\n",
        "plt.show()\n"
      ]
    },
    {
      "cell_type": "markdown",
      "metadata": {
        "id": "h5m8CNUjxrRZ"
      },
      "source": [
        "# OTHER MODELS"
      ]
    },
    {
      "cell_type": "markdown",
      "metadata": {
        "id": "22CF57W5xwol"
      },
      "source": [
        "# XDEEPFM"
      ]
    },
    {
      "cell_type": "code",
      "execution_count": null,
      "metadata": {
        "id": "CBTFELfJxv-Z"
      },
      "outputs": [],
      "source": [
        "from deepctr_torch.models import xDeepFM\n",
        "model = xDeepFM(linear_feature_columns=linear_feature_columns, dnn_feature_columns=dnn_feature_columns,\n",
        "                   task='binary',\n",
        "                   l2_reg_embedding=1e-1, device=device)\n",
        "model.compile(\"adagrad\", \"binary_crossentropy\",\n",
        "                  metrics=[\"binary_crossentropy\", \"auc\"],)"
      ]
    },
    {
      "cell_type": "code",
      "execution_count": null,
      "metadata": {
        "colab": {
          "base_uri": "https://localhost:8080/"
        },
        "id": "0hKNTYO8x_9s",
        "outputId": "f6679080-8c9a-406e-ab03-37e2ec17bd77"
      },
      "outputs": [
        {
          "output_type": "stream",
          "name": "stdout",
          "text": [
            "cuda:0\n",
            "Train on 340000 samples, validate on 60000 samples, 665 steps per epoch\n",
            "Epoch 1/10\n",
            "13s - loss:  0.3951 - binary_crossentropy:  0.3881 - auc:  0.7530 - val_binary_crossentropy:  0.3777 - val_auc:  0.7740\n",
            "Epoch 2/10\n",
            "13s - loss:  0.3352 - binary_crossentropy:  0.3195 - auc:  0.8570 - val_binary_crossentropy:  0.3847 - val_auc:  0.7737\n",
            "Epoch 3/10\n",
            "13s - loss:  0.2718 - binary_crossentropy:  0.2528 - auc:  0.9158 - val_binary_crossentropy:  0.4121 - val_auc:  0.7667\n",
            "Epoch 4/10\n",
            "13s - loss:  0.2490 - binary_crossentropy:  0.2299 - auc:  0.9303 - val_binary_crossentropy:  0.4356 - val_auc:  0.7641\n",
            "Epoch 5/10\n",
            "12s - loss:  0.2341 - binary_crossentropy:  0.2158 - auc:  0.9388 - val_binary_crossentropy:  0.4472 - val_auc:  0.7619\n",
            "Epoch 6/10\n",
            "12s - loss:  0.2230 - binary_crossentropy:  0.2054 - auc:  0.9446 - val_binary_crossentropy:  0.4599 - val_auc:  0.7605\n",
            "Epoch 7/10\n",
            "12s - loss:  0.2143 - binary_crossentropy:  0.1977 - auc:  0.9487 - val_binary_crossentropy:  0.4713 - val_auc:  0.7601\n",
            "Epoch 8/10\n",
            "12s - loss:  0.2074 - binary_crossentropy:  0.1916 - auc:  0.9518 - val_binary_crossentropy:  0.4802 - val_auc:  0.7588\n",
            "Epoch 9/10\n",
            "12s - loss:  0.2019 - binary_crossentropy:  0.1870 - auc:  0.9539 - val_binary_crossentropy:  0.4959 - val_auc:  0.7572\n",
            "Epoch 10/10\n",
            "12s - loss:  0.1974 - binary_crossentropy:  0.1829 - auc:  0.9559 - val_binary_crossentropy:  0.5004 - val_auc:  0.7570\n"
          ]
        }
      ],
      "source": [
        "history = model.fit(train_model_input, train[target].values, batch_size=512, epochs=10, verbose=2,\n",
        "                        validation_split=0.15)"
      ]
    },
    {
      "cell_type": "code",
      "execution_count": null,
      "metadata": {
        "colab": {
          "base_uri": "https://localhost:8080/"
        },
        "id": "-BXO7EpQ0UAj",
        "outputId": "c6d211b7-6b2e-4e45-cce0-3a0933f9a197"
      },
      "outputs": [
        {
          "output_type": "stream",
          "name": "stdout",
          "text": [
            "\n",
            "test LogLoss 0.5069\n",
            "test AUC 0.7539\n",
            "test Roc accuracy  0.6003\n",
            "test f1 score 0.3326\n",
            "test precision score 0.4734\n",
            "test recall score 0.2564\n",
            "test accuracy score 0.8316\n"
          ]
        }
      ],
      "source": [
        "pred_ans = model.predict(test_model_input, 256)\n",
        "ypred=[]\n",
        "for i in pred_ans:\n",
        "    ypred.append(round(i[0]))\n",
        "\n",
        "print(\"\")\n",
        "print(\"test LogLoss\", round(log_loss(test[target].values, pred_ans), 4))\n",
        "print(\"test AUC\", round(roc_auc_score(test[target].values, pred_ans), 4))\n",
        "print(\"test Roc accuracy \", round(roc_auc_score(test[target].values,ypred), 4))\n",
        "\n",
        "print(\"test f1 score\", round(f1_score(test[target].values,ypred), 4))\n",
        "print(\"test precision score\", round(precision_score(test[target].values,ypred), 4))\n",
        "print(\"test recall score\", round(recall_score(test[target].values,ypred), 4))\n",
        "print(\"test accuracy score\", round(accuracy_score(test[target].values,ypred), 4))"
      ]
    },
    {
      "cell_type": "code",
      "execution_count": null,
      "metadata": {
        "colab": {
          "base_uri": "https://localhost:8080/",
          "height": 481
        },
        "id": "LjWoBKiT09Ma",
        "outputId": "a172052b-ba46-4805-c5e1-9b5ffc2c10be"
      },
      "outputs": [
        {
          "output_type": "display_data",
          "data": {
            "text/plain": [
              "<Figure size 640x480 with 1 Axes>"
            ],
            "image/png": "[encoded data removed]"
          },
          "metadata": {}
        }
      ],
      "source": [
        "fpr, tpr, _ = roc_curve(test[target].values, pred_ans)\n",
        "plt.figure()\n",
        "plt.plot(fpr, tpr, color='darkorange', lw=2, label='ROC curve (area = %0.2f)' % roc_auc_score(test[target].values, pred_ans))\n",
        "plt.plot([0, 1], [0, 1], color='navy', lw=2, linestyle='--')\n",
        "plt.xlim([0.0, 1.0])\n",
        "plt.ylim([0.0, 1.05])\n",
        "plt.xlabel('False Positive Rate')\n",
        "plt.ylabel('True Positive Rate')\n",
        "plt.title('xDeepFM')\n",
        "plt.legend(loc=\"lower right\")\n",
        "plt.show()"
      ]
    },
    {
      "cell_type": "code",
      "execution_count": null,
      "metadata": {
        "colab": {
          "base_uri": "https://localhost:8080/",
          "height": 651
        },
        "id": "__LQ76El4Y5_",
        "outputId": "eeb25e8a-170c-4c41-88ae-b4d160da38d2"
      },
      "outputs": [
        {
          "output_type": "display_data",
          "data": {
            "text/plain": [
              "<Figure size 1000x700 with 2 Axes>"
            ],
            "image/png": "[encoded data removed]"
          },
          "metadata": {}
        }
      ],
      "source": [
        "# Calculate confusion matrix\n",
        "conf_matrix = confusion_matrix(test[target].values, ypred)\n",
        "\n",
        "# Plot confusion matrix\n",
        "plt.figure(figsize=(10, 7))\n",
        "sns.heatmap(conf_matrix, annot=True, fmt='d', cmap='Blues', xticklabels=['No Click', 'Click'], yticklabels=['No Click', 'Click'])\n",
        "plt.ylabel('Actual')\n",
        "plt.xlabel('Predicted')\n",
        "plt.title('Confusion Matrix')\n",
        "plt.show()"
      ]
    },
    {
      "cell_type": "markdown",
      "metadata": {
        "id": "-gqA1CuL4e_B"
      },
      "source": [
        "# Deep & Cross"
      ]
    },
    {
      "cell_type": "code",
      "execution_count": null,
      "metadata": {
        "colab": {
          "base_uri": "https://localhost:8080/"
        },
        "id": "PwnyK6hU4vvx",
        "outputId": "6587ea44-9204-49f9-fa51-0f04c94d60dd"
      },
      "outputs": [
        {
          "output_type": "stream",
          "name": "stdout",
          "text": [
            "cuda:0\n",
            "Train on 340000 samples, validate on 60000 samples, 665 steps per epoch\n",
            "Epoch 1/10\n",
            "11s - loss:  0.3898 - binary_crossentropy:  0.3893 - auc:  0.7512 - val_binary_crossentropy:  0.3789 - val_auc:  0.7718\n",
            "Epoch 2/10\n",
            "11s - loss:  0.3062 - binary_crossentropy:  0.3053 - auc:  0.8708 - val_binary_crossentropy:  0.4076 - val_auc:  0.7558\n",
            "Epoch 3/10\n",
            "11s - loss:  0.2445 - binary_crossentropy:  0.2434 - auc:  0.9229 - val_binary_crossentropy:  0.4339 - val_auc:  0.7474\n",
            "Epoch 4/10\n",
            "12s - loss:  0.2239 - binary_crossentropy:  0.2227 - auc:  0.9356 - val_binary_crossentropy:  0.4629 - val_auc:  0.7413\n",
            "Epoch 5/10\n",
            "11s - loss:  0.2130 - binary_crossentropy:  0.2116 - auc:  0.9414 - val_binary_crossentropy:  0.4682 - val_auc:  0.7434\n",
            "Epoch 6/10\n",
            "12s - loss:  0.2064 - binary_crossentropy:  0.2050 - auc:  0.9445 - val_binary_crossentropy:  0.4855 - val_auc:  0.7416\n",
            "Epoch 7/10\n",
            "11s - loss:  0.2019 - binary_crossentropy:  0.2006 - auc:  0.9462 - val_binary_crossentropy:  0.5056 - val_auc:  0.7372\n",
            "Epoch 8/10\n",
            "11s - loss:  0.1988 - binary_crossentropy:  0.1973 - auc:  0.9475 - val_binary_crossentropy:  0.5112 - val_auc:  0.7409\n",
            "Epoch 9/10\n",
            "11s - loss:  0.1965 - binary_crossentropy:  0.1950 - auc:  0.9485 - val_binary_crossentropy:  0.5147 - val_auc:  0.7420\n",
            "Epoch 10/10\n",
            "11s - loss:  0.1948 - binary_crossentropy:  0.1934 - auc:  0.9491 - val_binary_crossentropy:  0.5254 - val_auc:  0.7408\n"
          ]
        }
      ],
      "source": [
        "from deepctr_torch.models import DCN\n",
        "model = DCN(linear_feature_columns=linear_feature_columns, dnn_feature_columns=dnn_feature_columns,\n",
        "                   task='binary',\n",
        "                   l2_reg_embedding=1e-3, device=device)\n",
        "model.compile(\"adagrad\", \"binary_crossentropy\",\n",
        "                  metrics=[\"binary_crossentropy\", \"auc\"], )\n",
        "history = model.fit(train_model_input, train[target].values, batch_size=512, epochs=10, verbose=2,\n",
        "                        validation_split=0.15)\n",
        "\n",
        "pred_ans = model.predict(test_model_input, 256)"
      ]
    },
    {
      "cell_type": "code",
      "execution_count": null,
      "metadata": {
        "colab": {
          "base_uri": "https://localhost:8080/"
        },
        "id": "bDGStddr40Jy",
        "outputId": "47afbdfa-8b42-41e5-9dd9-dc6abaa70352"
      },
      "outputs": [
        {
          "output_type": "stream",
          "name": "stdout",
          "text": [
            "\n",
            "test LogLoss 0.5305\n",
            "test AUC 0.7381\n",
            "test Roc accuracy  0.6151\n",
            "test f1 score 0.3605\n",
            "test precision score 0.4236\n",
            "test recall score 0.3137\n",
            "test accuracy score 0.8177\n"
          ]
        }
      ],
      "source": [
        "ypred=[]\n",
        "for i in pred_ans:\n",
        "    ypred.append(round(i[0]))\n",
        "\n",
        "print(\"\")\n",
        "print(\"test LogLoss\", round(log_loss(test[target].values, pred_ans), 4))\n",
        "print(\"test AUC\", round(roc_auc_score(test[target].values, pred_ans), 4))\n",
        "print(\"test Roc accuracy \", round(roc_auc_score(test[target].values,ypred), 4))\n",
        "print(\"test f1 score\", round(f1_score(test[target].values,ypred), 4))\n",
        "print(\"test precision score\", round(precision_score(test[target].values,ypred), 4))\n",
        "print(\"test recall score\", round(recall_score(test[target].values,ypred), 4))\n",
        "print(\"test accuracy score\", round(accuracy_score(test[target].values,ypred), 4))"
      ]
    },
    {
      "cell_type": "code",
      "source": [
        "fpr, tpr, _ = roc_curve(test[target].values, pred_ans)\n",
        "plt.figure()\n",
        "plt.plot(fpr, tpr, color='darkorange', lw=2, label='ROC curve (area = %0.2f)' % roc_auc_score(test[target].values, pred_ans))\n",
        "plt.plot([0, 1], [0, 1], color='navy', lw=2, linestyle='--')\n",
        "plt.xlim([0.0, 1.0])\n",
        "plt.ylim([0.0, 1.05])\n",
        "plt.xlabel('False Positive Rate')\n",
        "plt.ylabel('True Positive Rate')\n",
        "plt.title('DCN')\n",
        "plt.legend(loc=\"lower right\")\n",
        "plt.show()"
      ],
      "metadata": {
        "colab": {
          "base_uri": "https://localhost:8080/",
          "height": 481
        },
        "id": "7VDpOWXuUabC",
        "outputId": "10f45ea6-dfb4-44e7-e088-641b46594723"
      },
      "execution_count": null,
      "outputs": [
        {
          "output_type": "display_data",
          "data": {
            "text/plain": [
              "<Figure size 640x480 with 1 Axes>"
            ],
            "image/png": "[encoded data removed]"
          },
          "metadata": {}
        }
      ]
    },
    {
      "cell_type": "code",
      "execution_count": null,
      "metadata": {
        "colab": {
          "base_uri": "https://localhost:8080/",
          "height": 651
        },
        "id": "9wcuXW_t4qep",
        "outputId": "e123399d-83f5-43e4-c054-a5cbbb8d0df2"
      },
      "outputs": [
        {
          "output_type": "display_data",
          "data": {
            "text/plain": [
              "<Figure size 1000x700 with 2 Axes>"
            ],
            "image/png": "[encoded data removed]"
          },
          "metadata": {}
        }
      ],
      "source": [
        "# Calculate confusion matrix\n",
        "conf_matrix = confusion_matrix(test[target].values, ypred)\n",
        "\n",
        "# Plot confusion matrix\n",
        "plt.figure(figsize=(10, 7))\n",
        "sns.heatmap(conf_matrix, annot=True, fmt='d', cmap='Blues', xticklabels=['No Click', 'Click'], yticklabels=['No Click', 'Click'])\n",
        "plt.ylabel('Actual')\n",
        "plt.xlabel('Predicted')\n",
        "plt.title('Confusion Matrix')\n",
        "plt.show()"
      ]
    },
    {
      "cell_type": "markdown",
      "metadata": {
        "id": "U-5Sc8z3uB39"
      },
      "source": []
    },
    {
      "cell_type": "code",
      "execution_count": null,
      "metadata": {
        "id": "cz1B3HN76h3q"
      },
      "outputs": [],
      "source": [
        "import pandas as pd\n",
        "import numpy as np\n",
        "from sklearn.model_selection import train_test_split\n",
        "from sklearn.preprocessing import LabelEncoder, StandardScaler\n",
        "from sklearn.linear_model import LogisticRegression\n",
        "from sklearn.metrics import accuracy_score, roc_auc_score, log_loss, f1_score, precision_score, recall_score, confusion_matrix, roc_curve\n",
        "import seaborn as sns\n",
        "import matplotlib.pyplot as plt"
      ]
    },
    {
      "cell_type": "code",
      "execution_count": null,
      "metadata": {
        "id": "sUVeNDi66Pq8"
      },
      "outputs": [],
      "source": [
        "# Convert the dictionary of features into DataFrame\n",
        "X_train = pd.DataFrame(train_model_input)\n",
        "X_test = pd.DataFrame(test_model_input)\n",
        "y_train = train[target].values\n",
        "y_test = test[target].values\n",
        "\n",
        "# Standardize the data\n",
        "scaler = StandardScaler()\n",
        "X_train = scaler.fit_transform(X_train)\n",
        "X_test = scaler.transform(X_test)\n",
        "\n",
        "# Build and train the Logistic Regression model\n",
        "log_model = LogisticRegression()\n",
        "log_model.fit(X_train, y_train)\n",
        "\n",
        "# Make predictions\n",
        "pred_probs = log_model.predict_proba(X_test)[:, 1]\n",
        "pred_class = log_model.predict(X_test)\n"
      ]
    },
    {
      "cell_type": "code",
      "execution_count": null,
      "metadata": {
        "colab": {
          "base_uri": "https://localhost:8080/"
        },
        "id": "LT0b-ODn6yN9",
        "outputId": "1ee57de6-1efd-48de-9ba6-bc424bf7bc1b"
      },
      "outputs": [
        {
          "output_type": "stream",
          "name": "stdout",
          "text": [
            "\n",
            "test LogLoss 0.4194\n",
            "test AUC 0.6688\n",
            "test Roc accuracy  0.5024\n",
            "test f1 score 0.0163\n",
            "test precision score 0.3157\n",
            "test recall score 0.0084\n",
            "test accuracy score 0.8347\n"
          ]
        }
      ],
      "source": [
        " #Calculate and print evaluation metrics\n",
        "print(\"\")\n",
        "print(\"test LogLoss\", round(log_loss(y_test, pred_probs), 4))\n",
        "print(\"test AUC\", round(roc_auc_score(y_test, pred_probs), 4))\n",
        "print(\"test Roc accuracy \", round(roc_auc_score(y_test, pred_class), 4))\n",
        "print(\"test f1 score\", round(f1_score(y_test, pred_class), 4))\n",
        "print(\"test precision score\", round(precision_score(y_test, pred_class), 4))\n",
        "print(\"test recall score\", round(recall_score(y_test, pred_class), 4))\n",
        "print(\"test accuracy score\", round(accuracy_score(y_test, pred_class),4))"
      ]
    },
    {
      "cell_type": "markdown",
      "metadata": {
        "id": "XZQlpStv-u8e"
      },
      "source": [
        "# Wide & Deep"
      ]
    },
    {
      "cell_type": "code",
      "execution_count": null,
      "metadata": {
        "colab": {
          "base_uri": "https://localhost:8080/"
        },
        "id": "-4JWLlsY-0iw",
        "outputId": "2650c1dc-fdea-4c07-cca7-f206ae3a0889"
      },
      "outputs": [
        {
          "output_type": "stream",
          "name": "stdout",
          "text": [
            "cuda:0\n",
            "Train on 340000 samples, validate on 60000 samples, 665 steps per epoch\n",
            "Epoch 1/10\n",
            "10s - loss:  0.3899 - binary_crossentropy:  0.3896 - auc:  0.7507 - val_binary_crossentropy:  0.3792 - val_auc:  0.7717\n",
            "Epoch 2/10\n",
            "10s - loss:  0.3077 - binary_crossentropy:  0.3070 - auc:  0.8702 - val_binary_crossentropy:  0.4072 - val_auc:  0.7568\n",
            "Epoch 3/10\n",
            "10s - loss:  0.2469 - binary_crossentropy:  0.2458 - auc:  0.9222 - val_binary_crossentropy:  0.4336 - val_auc:  0.7460\n",
            "Epoch 4/10\n",
            "11s - loss:  0.2261 - binary_crossentropy:  0.2249 - auc:  0.9350 - val_binary_crossentropy:  0.4571 - val_auc:  0.7432\n",
            "Epoch 5/10\n",
            "11s - loss:  0.2149 - binary_crossentropy:  0.2136 - auc:  0.9410 - val_binary_crossentropy:  0.4622 - val_auc:  0.7453\n",
            "Epoch 6/10\n",
            "10s - loss:  0.2082 - binary_crossentropy:  0.2069 - auc:  0.9442 - val_binary_crossentropy:  0.4744 - val_auc:  0.7462\n",
            "Epoch 7/10\n",
            "11s - loss:  0.2037 - binary_crossentropy:  0.2023 - auc:  0.9463 - val_binary_crossentropy:  0.5060 - val_auc:  0.7392\n",
            "Epoch 8/10\n",
            "11s - loss:  0.2004 - binary_crossentropy:  0.1988 - auc:  0.9478 - val_binary_crossentropy:  0.4970 - val_auc:  0.7430\n",
            "Epoch 9/10\n",
            "11s - loss:  0.1978 - binary_crossentropy:  0.1966 - auc:  0.9488 - val_binary_crossentropy:  0.5090 - val_auc:  0.7394\n",
            "Epoch 10/10\n",
            "11s - loss:  0.1959 - binary_crossentropy:  0.1944 - auc:  0.9496 - val_binary_crossentropy:  0.5182 - val_auc:  0.7373\n"
          ]
        }
      ],
      "source": [
        "from deepctr_torch.models import WDL\n",
        "model = WDL(linear_feature_columns=linear_feature_columns, dnn_feature_columns=dnn_feature_columns,\n",
        "                   task='binary',\n",
        "                   l2_reg_embedding=1e-3, device=device)\n",
        "model.compile(\"adagrad\", \"binary_crossentropy\",\n",
        "                  metrics=[\"binary_crossentropy\", \"auc\"], )\n",
        "history = model.fit(train_model_input, train[target].values, batch_size=512, epochs=10, verbose=2,\n",
        "                        validation_split=0.15)\n",
        "\n",
        "pred_ans = model.predict(test_model_input, 256)"
      ]
    },
    {
      "cell_type": "code",
      "source": [],
      "metadata": {
        "id": "kWb48roL29my"
      },
      "execution_count": null,
      "outputs": []
    },
    {
      "cell_type": "code",
      "execution_count": null,
      "metadata": {
        "colab": {
          "base_uri": "https://localhost:8080/"
        },
        "outputId": "1f388d32-a77d-4c33-ffba-38d447c296a4",
        "id": "JlgDILZn2-ES"
      },
      "outputs": [
        {
          "output_type": "stream",
          "name": "stdout",
          "text": [
            "\n",
            "test LogLoss 0.5247\n",
            "test AUC 0.7346\n",
            "test Roc accuracy  0.6127\n",
            "test f1 score 0.3557\n",
            "test precision score 0.4161\n",
            "test recall score 0.3106\n",
            "test accuracy score 0.8158\n"
          ]
        }
      ],
      "source": [
        "ypred=[]\n",
        "for i in pred_ans:\n",
        "    ypred.append(round(i[0]))\n",
        "\n",
        "print(\"\")\n",
        "print(\"test LogLoss\", round(log_loss(test[target].values, pred_ans), 4))\n",
        "print(\"test AUC\", round(roc_auc_score(test[target].values, pred_ans), 4))\n",
        "print(\"test Roc accuracy \", round(roc_auc_score(test[target].values,ypred), 4))\n",
        "print(\"test f1 score\", round(f1_score(test[target].values,ypred), 4))\n",
        "print(\"test precision score\", round(precision_score(test[target].values,ypred), 4))\n",
        "print(\"test recall score\", round(recall_score(test[target].values,ypred), 4))\n",
        "print(\"test accuracy score\", round(accuracy_score(test[target].values,ypred), 4))"
      ]
    },
    {
      "cell_type": "code",
      "source": [
        "# Calculate confusion matrix\n",
        "conf_matrix = confusion_matrix(test[target].values, ypred)\n",
        "\n",
        "# Plot confusion matrix\n",
        "plt.figure(figsize=(10, 7))\n",
        "sns.heatmap(conf_matrix, annot=True, fmt='d', cmap='Blues', xticklabels=['No Click', 'Click'], yticklabels=['No Click', 'Click'])\n",
        "plt.ylabel('Actual')\n",
        "plt.xlabel('Predicted')\n",
        "plt.title('Confusion Matrix')\n",
        "plt.show()"
      ],
      "metadata": {
        "id": "VzUD5JpZ3LqK",
        "outputId": "f6ff4d90-927b-405c-9eb8-373ecf41a3a4",
        "colab": {
          "base_uri": "https://localhost:8080/",
          "height": 651
        }
      },
      "execution_count": null,
      "outputs": [
        {
          "output_type": "display_data",
          "data": {
            "text/plain": [
              "<Figure size 1000x700 with 2 Axes>"
            ],
            "image/png": "[encoded data removed]"
          },
          "metadata": {}
        }
      ]
    },
    {
      "cell_type": "code",
      "source": [
        "fpr, tpr, _ = roc_curve(test[target].values, pred_ans)\n",
        "plt.figure()\n",
        "plt.plot(fpr, tpr, color='darkorange', lw=2, label='ROC curve (area = %0.2f)' % roc_auc_score(test[target].values, pred_ans))\n",
        "plt.plot([0, 1], [0, 1], color='navy', lw=2, linestyle='--')\n",
        "plt.xlim([0.0, 1.0])\n",
        "plt.ylim([0.0, 1.05])\n",
        "plt.xlabel('False Positive Rate')\n",
        "plt.ylabel('True Positive Rate')\n",
        "plt.title('Wide & Deep')\n",
        "plt.legend(loc=\"lower right\")\n",
        "plt.show()"
      ],
      "metadata": {
        "colab": {
          "base_uri": "https://localhost:8080/",
          "height": 481
        },
        "id": "eWv-gMucYeTC",
        "outputId": "8c5877fd-8a77-4d2c-e29c-cb23f9e33bf0"
      },
      "execution_count": null,
      "outputs": [
        {
          "output_type": "display_data",
          "data": {
            "text/plain": [
              "<Figure size 640x480 with 1 Axes>"
            ],
            "image/png": "[encoded data removed]"
          },
          "metadata": {}
        }
      ]
    }
  ],
  "metadata": {
    "accelerator": "GPU",
    "colab": {
      "gpuType": "T4",
      "machine_shape": "hm",
      "provenance": [],
      "authorship_tag": "ABX9TyMy3ibSVd0KD/uKFRPZ9J3k",
      "include_colab_link": true
    },
    "kernelspec": {
      "display_name": "Python 3",
      "name": "python3"
    },
    "language_info": {
      "name": "python"
    }
  },
  "nbformat": 4,
  "nbformat_minor": 0
}